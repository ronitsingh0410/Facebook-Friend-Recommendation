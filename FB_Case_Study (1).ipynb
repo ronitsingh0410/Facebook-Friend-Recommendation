{
  "nbformat": 4,
  "nbformat_minor": 0,
  "metadata": {
    "accelerator": "GPU",
    "colab": {
      "name": "FB.ipynb",
      "provenance": [],
      "collapsed_sections": []
    },
    "kernelspec": {
      "display_name": "Python 3",
      "language": "python",
      "name": "python3"
    },
    "language_info": {
      "codemirror_mode": {
        "name": "ipython",
        "version": 3
      },
      "file_extension": ".py",
      "mimetype": "text/x-python",
      "name": "python",
      "nbconvert_exporter": "python",
      "pygments_lexer": "ipython3",
      "version": "3.8.5"
    }
  },
  "cells": [
    {
      "cell_type": "code",
      "metadata": {
        "id": "QTrmZNKjOwOk"
      },
      "source": [
        "import warnings\n",
        "warnings.filterwarnings(\"ignore\")\n",
        "import csv\n",
        "import pandas as pd\n",
        "import datetime\n",
        "import time \n",
        "import numpy as np\n",
        "import matplotlib\n",
        "import matplotlib.pylab as plt\n",
        "import seaborn as sns\n",
        "from matplotlib import rcParams\n",
        "from sklearn.cluster import MiniBatchKMeans, KMeans\n",
        "import math\n",
        "import pickle\n",
        "import os\n",
        "import xgboost as xgb\n",
        "import networkx as nx\n",
        "import pdb\n",
        "import pickle\n",
        "from collections import Counter\n",
        "import time\n",
        "import random\n",
        "from sklearn.model_selection import train_test_split\n",
        "from pandas import HDFStore,DataFrame\n",
        "from pandas import read_hdf\n",
        "from tqdm import tqdm\n",
        "from scipy.sparse.linalg import svds, eigs\n",
        "from sklearn.metrics import f1_score\n",
        "from sklearn.ensemble import RandomForestClassifier\n",
        "from sklearn.model_selection import RandomizedSearchCV\n",
        "from scipy.stats import randint as sp_randint\n",
        "from scipy.stats import uniform\n",
        "from sklearn.metrics import confusion_matrix\n",
        "from sklearn.metrics import roc_curve, auc\n",
        "from xgboost import XGBClassifier\n",
        "from lightgbm import LGBMClassifier"
      ],
      "execution_count": null,
      "outputs": []
    },
    {
      "cell_type": "code",
      "metadata": {
        "id": "Tx1peQYuam1z"
      },
      "source": [
        "# from google.colab import drive\n",
        "# drive.mount('/content/drive')"
      ],
      "execution_count": null,
      "outputs": []
    },
    {
      "cell_type": "code",
      "metadata": {
        "id": "_c7wGe9dd1l4"
      },
      "source": [
        "source = r'/home/ronit/Downloads/Facebook'"
      ],
      "execution_count": null,
      "outputs": []
    },
    {
      "cell_type": "code",
      "metadata": {
        "id": "XvcgncDobZio"
      },
      "source": [
        "train_data = pd.read_csv(source+'/train.csv')"
      ],
      "execution_count": null,
      "outputs": []
    },
    {
      "cell_type": "code",
      "metadata": {
        "colab": {
          "base_uri": "https://localhost:8080/"
        },
        "id": "GwuXepTEblCD",
        "outputId": "8e3c0e4e-d641-461a-bf3d-57e7bd364cac"
      },
      "source": [
        "print(train_data.head())"
      ],
      "execution_count": null,
      "outputs": [
        {
          "output_type": "stream",
          "text": [
            "   source_node  destination_node\n",
            "0            1            690569\n",
            "1            1            315892\n",
            "2            1            189226\n",
            "3            2            834328\n",
            "4            2           1615927\n"
          ],
          "name": "stdout"
        }
      ]
    },
    {
      "cell_type": "code",
      "metadata": {
        "id": "oRUYojrWg60p"
      },
      "source": [
        "def check_nan(dataset):\n",
        "    is_NaN = dataset.isnull()\n",
        "    row_has_NaN = is_NaN.any(axis=1)\n",
        "    return list(dataset[row_has_NaN][['source_node','destination_node']]),list(dataset[row_has_NaN].index.values)"
      ],
      "execution_count": null,
      "outputs": []
    },
    {
      "cell_type": "code",
      "metadata": {
        "colab": {
          "base_uri": "https://localhost:8080/"
        },
        "id": "Vtsy-VckmFDb",
        "outputId": "009f5e64-f196-47cb-9afb-6315ac1eb269"
      },
      "source": [
        "print('Any na values',check_nan(train_data))\n",
        "print(train_data.info())\n",
        "print(\"Number of diplicate entries: \",sum(train_data.duplicated()))\n",
        "train_data.to_csv(source+'/train_data_no_header.csv',header=False,index=False)\n",
        "g = nx.read_edgelist(source+'/train_data_no_header.csv',delimiter=',',create_using=nx.DiGraph(),nodetype=int)\n",
        "print(nx.info(g))"
      ],
      "execution_count": null,
      "outputs": [
        {
          "output_type": "stream",
          "text": [
            "Any na values (['source_node', 'destination_node'], [])\n",
            "<class 'pandas.core.frame.DataFrame'>\n",
            "RangeIndex: 9437519 entries, 0 to 9437518\n",
            "Data columns (total 2 columns):\n",
            " #   Column            Dtype\n",
            "---  ------            -----\n",
            " 0   source_node       int64\n",
            " 1   destination_node  int64\n",
            "dtypes: int64(2)\n",
            "memory usage: 144.0 MB\n",
            "None\n",
            "Number of diplicate entries:  0\n",
            "Name: \n",
            "Type: DiGraph\n",
            "Number of nodes: 1862220\n",
            "Number of edges: 9437519\n",
            "Average in degree:   5.0679\n",
            "Average out degree:   5.0679\n"
          ],
          "name": "stdout"
        }
      ]
    },
    {
      "cell_type": "code",
      "metadata": {
        "colab": {
          "base_uri": "https://localhost:8080/"
        },
        "id": "j-UjALR2pvk-",
        "outputId": "930e99ae-0ef2-465f-c40e-9e5372f44761"
      },
      "source": [
        "print('Number of unique nodes',len(g.nodes()))"
      ],
      "execution_count": null,
      "outputs": [
        {
          "output_type": "stream",
          "text": [
            "Number of unique nodes 1862220\n"
          ],
          "name": "stdout"
        }
      ]
    },
    {
      "cell_type": "markdown",
      "metadata": {
        "id": "x2JLWzWvwYRf"
      },
      "source": [
        "No of followers"
      ]
    },
    {
      "cell_type": "code",
      "metadata": {
        "colab": {
          "base_uri": "https://localhost:8080/",
          "height": 388
        },
        "id": "ckTwkA5SqVP5",
        "outputId": "30c1656d-537c-49f5-caa4-a14e0ff8aec0"
      },
      "source": [
        "indegree_value = list(dict(g.in_degree()).values())\n",
        "indegree_value.sort()\n",
        "plt.figure(figsize=(10,6))\n",
        "plt.plot(indegree_value)\n",
        "plt.xlabel('Index No')\n",
        "plt.ylabel('No of Followers')\n",
        "plt.show()"
      ],
      "execution_count": null,
      "outputs": [
        {
          "output_type": "display_data",
          "data": {
            "image/png": "[encoded data removed]",
            "text/plain": [
              "<Figure size 720x432 with 1 Axes>"
            ]
          },
          "metadata": {
            "tags": [],
            "needs_background": "light"
          }
        }
      ]
    },
    {
      "cell_type": "code",
      "metadata": {
        "colab": {
          "base_uri": "https://localhost:8080/",
          "height": 388
        },
        "id": "cpqLmevpxMxT",
        "outputId": "22360807-2f7b-4b09-cbe4-afaaa64c5632"
      },
      "source": [
        "indegree_value = list(dict(g.in_degree()).values())\n",
        "indegree_value.sort()\n",
        "plt.figure(figsize=(10,6))\n",
        "plt.plot(indegree_value[0:1500000])\n",
        "plt.xlabel('Index No')\n",
        "plt.ylabel('No of Followers')\n",
        "plt.show()"
      ],
      "execution_count": null,
      "outputs": [
        {
          "output_type": "display_data",
          "data": {
            "image/png": "[encoded data removed]",
            "text/plain": [
              "<Figure size 720x432 with 1 Axes>"
            ]
          },
          "metadata": {
            "tags": [],
            "needs_background": "light"
          }
        }
      ]
    },
    {
      "cell_type": "markdown",
      "metadata": {
        "id": "lX5ZjuxBFp-O"
      },
      "source": [
        "As we can see in the above graph around 200000 have zero followers and 1400000 have 7 or less than 7 followers."
      ]
    },
    {
      "cell_type": "code",
      "metadata": {
        "colab": {
          "base_uri": "https://localhost:8080/",
          "height": 265
        },
        "id": "FW4adCUtyi3C",
        "outputId": "d145f091-667c-4462-a41b-daa55127b614"
      },
      "source": [
        "plt.boxplot(indegree_value)\n",
        "plt.ylabel('No Of Followers')\n",
        "plt.show()"
      ],
      "execution_count": null,
      "outputs": [
        {
          "output_type": "display_data",
          "data": {
            "image/png": "[encoded data removed]",
            "text/plain": [
              "<Figure size 432x288 with 1 Axes>"
            ]
          },
          "metadata": {
            "tags": [],
            "needs_background": "light"
          }
        }
      ]
    },
    {
      "cell_type": "code",
      "metadata": {
        "colab": {
          "base_uri": "https://localhost:8080/"
        },
        "id": "5lZD5KOfyqro",
        "outputId": "8cb81720-97f8-4b92-f039-34f6c1b6260e"
      },
      "source": [
        "for i in range(0,11):\n",
        "  print(90+i, 'percentile value is ', np.percentile(indegree_value,90+i))"
      ],
      "execution_count": null,
      "outputs": [
        {
          "output_type": "stream",
          "text": [
            "90 percentile value is  12.0\n",
            "91 percentile value is  13.0\n",
            "92 percentile value is  14.0\n",
            "93 percentile value is  15.0\n",
            "94 percentile value is  17.0\n",
            "95 percentile value is  19.0\n",
            "96 percentile value is  21.0\n",
            "97 percentile value is  24.0\n",
            "98 percentile value is  29.0\n",
            "99 percentile value is  40.0\n",
            "100 percentile value is  552.0\n"
          ],
          "name": "stdout"
        }
      ]
    },
    {
      "cell_type": "markdown",
      "metadata": {
        "id": "L6zsIVVYGclz"
      },
      "source": [
        "99% of data having followers of 40 only."
      ]
    },
    {
      "cell_type": "code",
      "metadata": {
        "colab": {
          "base_uri": "https://localhost:8080/"
        },
        "id": "zzMXFHZm5-61",
        "outputId": "f02f2b11-189e-4070-ee39-48d16b0d8931"
      },
      "source": [
        "for i in range(10,110,10):\n",
        "  print(99+(i/100), 'percentile value is ', np.percentile(indegree_value,99+(i/100)))"
      ],
      "execution_count": null,
      "outputs": [
        {
          "output_type": "stream",
          "text": [
            "99.1 percentile value is  42.0\n",
            "99.2 percentile value is  44.0\n",
            "99.3 percentile value is  47.0\n",
            "99.4 percentile value is  50.0\n",
            "99.5 percentile value is  55.0\n",
            "99.6 percentile value is  61.0\n",
            "99.7 percentile value is  70.0\n",
            "99.8 percentile value is  84.0\n",
            "99.9 percentile value is  112.0\n",
            "100.0 percentile value is  552.0\n"
          ],
          "name": "stdout"
        }
      ]
    },
    {
      "cell_type": "code",
      "metadata": {
        "colab": {
          "base_uri": "https://localhost:8080/",
          "height": 511
        },
        "id": "xxWwORyR6TFj",
        "outputId": "9161a251-aed0-48de-940f-c7de10043b66"
      },
      "source": [
        "sns.set_style('ticks')\n",
        "fig, ax = plt.subplots()\n",
        "fig.set_size_inches(11.7, 8.27)\n",
        "sns.distplot(indegree_value, color='#16A085')\n",
        "plt.xlabel('PDF of Indegree')\n",
        "sns.despine()"
      ],
      "execution_count": null,
      "outputs": [
        {
          "output_type": "display_data",
          "data": {
            "image/png": "[encoded data removed]",
            "text/plain": [
              "<Figure size 842.4x595.44 with 1 Axes>"
            ]
          },
          "metadata": {
            "tags": []
          }
        }
      ]
    },
    {
      "cell_type": "markdown",
      "metadata": {
        "id": "LUVF9gXV8cFR"
      },
      "source": [
        "No of people each person is following"
      ]
    },
    {
      "cell_type": "code",
      "metadata": {
        "colab": {
          "base_uri": "https://localhost:8080/",
          "height": 388
        },
        "id": "nfAsNyy28hQ5",
        "outputId": "0a4a1e05-71f4-4d96-bae5-a3e9b55d9ccd"
      },
      "source": [
        "outdegree_value = list(dict(g.out_degree()).values())\n",
        "outdegree_value.sort()\n",
        "plt.figure(figsize=(10,6))\n",
        "plt.plot(outdegree_value)\n",
        "plt.xlabel('Index No')\n",
        "plt.ylabel('No of Followers')\n",
        "plt.show()"
      ],
      "execution_count": null,
      "outputs": [
        {
          "output_type": "display_data",
          "data": {
            "image/png": "[encoded data removed]",
            "text/plain": [
              "<Figure size 720x432 with 1 Axes>"
            ]
          },
          "metadata": {
            "tags": []
          }
        }
      ]
    },
    {
      "cell_type": "code",
      "metadata": {
        "colab": {
          "base_uri": "https://localhost:8080/",
          "height": 388
        },
        "id": "dKcKNL9o6xfj",
        "outputId": "a29e9933-e57a-4c16-d3b7-cec2d1eefa4b"
      },
      "source": [
        "outdegree_value = list(dict(g.out_degree()).values())\n",
        "outdegree_value.sort()\n",
        "plt.figure(figsize=(10,6))\n",
        "plt.plot(outdegree_value[0:1500000])\n",
        "plt.xlabel('Index No')\n",
        "plt.ylabel('No Of people each person is following')\n",
        "plt.show()"
      ],
      "execution_count": null,
      "outputs": [
        {
          "output_type": "display_data",
          "data": {
            "image/png": "[encoded data removed]",
            "text/plain": [
              "<Figure size 720x432 with 1 Axes>"
            ]
          },
          "metadata": {
            "tags": []
          }
        }
      ]
    },
    {
      "cell_type": "markdown",
      "metadata": {
        "id": "m_Qlg1gvGs6o"
      },
      "source": [
        "More 200000 people are not following any one."
      ]
    },
    {
      "cell_type": "code",
      "metadata": {
        "colab": {
          "base_uri": "https://localhost:8080/",
          "height": 265
        },
        "id": "Wcj65Ro467Qs",
        "outputId": "44def82d-bffb-455e-9212-7b3dbed18f77"
      },
      "source": [
        "plt.boxplot(outdegree_value)\n",
        "plt.ylabel('No Of people each person is following')\n",
        "plt.show()"
      ],
      "execution_count": null,
      "outputs": [
        {
          "output_type": "display_data",
          "data": {
            "image/png": "[encoded data removed]",
            "text/plain": [
              "<Figure size 432x288 with 1 Axes>"
            ]
          },
          "metadata": {
            "tags": []
          }
        }
      ]
    },
    {
      "cell_type": "code",
      "metadata": {
        "colab": {
          "base_uri": "https://localhost:8080/"
        },
        "id": "qB6ScdKC7I2j",
        "outputId": "56a9f02d-e108-47bc-dfde-776ff7daf8a3"
      },
      "source": [
        "### 90-100 percentile\n",
        "for i in range(0,11):\n",
        "    print(90+i,'percentile value is',np.percentile(outdegree_value,90+i))"
      ],
      "execution_count": null,
      "outputs": [
        {
          "output_type": "stream",
          "text": [
            "90 percentile value is 12.0\n",
            "91 percentile value is 13.0\n",
            "92 percentile value is 14.0\n",
            "93 percentile value is 15.0\n",
            "94 percentile value is 17.0\n",
            "95 percentile value is 19.0\n",
            "96 percentile value is 21.0\n",
            "97 percentile value is 24.0\n",
            "98 percentile value is 29.0\n",
            "99 percentile value is 40.0\n",
            "100 percentile value is 1566.0\n"
          ],
          "name": "stdout"
        }
      ]
    },
    {
      "cell_type": "code",
      "metadata": {
        "colab": {
          "base_uri": "https://localhost:8080/"
        },
        "id": "S6b9yoFX7Vnd",
        "outputId": "6605a785-7f5d-4686-f301-512e86b60f58"
      },
      "source": [
        "### 99-100 percentile\n",
        "for i in range(10,110,10):\n",
        "    print(99+(i/100),'percentile value is',np.percentile(outdegree_value,99+(i/100)))"
      ],
      "execution_count": null,
      "outputs": [
        {
          "output_type": "stream",
          "text": [
            "99.1 percentile value is 42.0\n",
            "99.2 percentile value is 45.0\n",
            "99.3 percentile value is 48.0\n",
            "99.4 percentile value is 52.0\n",
            "99.5 percentile value is 56.0\n",
            "99.6 percentile value is 63.0\n",
            "99.7 percentile value is 73.0\n",
            "99.8 percentile value is 90.0\n",
            "99.9 percentile value is 123.0\n",
            "100.0 percentile value is 1566.0\n"
          ],
          "name": "stdout"
        }
      ]
    },
    {
      "cell_type": "code",
      "metadata": {
        "colab": {
          "base_uri": "https://localhost:8080/",
          "height": 511
        },
        "id": "NArbGgrA7Zp0",
        "outputId": "c12f3fea-8997-4e80-8747-a44361b2396b"
      },
      "source": [
        "sns.set_style('ticks')\n",
        "fig, ax = plt.subplots()\n",
        "fig.set_size_inches(11.7, 8.27)\n",
        "sns.distplot(outdegree_value, color='#16A085')\n",
        "plt.xlabel('PDF of Outdegree')\n",
        "sns.despine()"
      ],
      "execution_count": null,
      "outputs": [
        {
          "output_type": "display_data",
          "data": {
            "image/png": "[encoded data removed]",
            "text/plain": [
              "<Figure size 842.4x595.44 with 1 Axes>"
            ]
          },
          "metadata": {
            "tags": []
          }
        }
      ]
    },
    {
      "cell_type": "code",
      "metadata": {
        "colab": {
          "base_uri": "https://localhost:8080/"
        },
        "id": "JmmkynDA7h1L",
        "outputId": "f17bd1f4-683a-4138-91e9-c20127a17f81"
      },
      "source": [
        "print('No of persons those are not following anyone are' ,sum(np.array(outdegree_value)==0),'and % is',sum(np.array(outdegree_value)==0)*100/len(outdegree_value))"
      ],
      "execution_count": null,
      "outputs": [
        {
          "output_type": "stream",
          "text": [
            "No of persons those are not following anyone are 274512 and % is 14.741115442858524\n"
          ],
          "name": "stdout"
        }
      ]
    },
    {
      "cell_type": "code",
      "metadata": {
        "colab": {
          "base_uri": "https://localhost:8080/"
        },
        "id": "UR2Csk6D8mJ2",
        "outputId": "e7597465-511b-4c01-a056-1fc7e8bf30d4"
      },
      "source": [
        "print('No of person having zero followers', sum(np.array(indegree_value)==0), 'and % is ', (sum(np.array(indegree_value)==0)*100)/len(indegree_value))"
      ],
      "execution_count": null,
      "outputs": [
        {
          "output_type": "stream",
          "text": [
            "No of person having zero followers 188043 and % is  10.097786512871734\n"
          ],
          "name": "stdout"
        }
      ]
    },
    {
      "cell_type": "code",
      "metadata": {
        "colab": {
          "base_uri": "https://localhost:8080/"
        },
        "id": "i46Q865FDODZ",
        "outputId": "bc175511-0725-4d3c-9945-50a1913f462a"
      },
      "source": [
        "count = 0\n",
        "for node in g.nodes():\n",
        "  if len(list(g.predecessors(node)))==0 and len(list(g.successors(node)))==0:\n",
        "    count = count + 1\n",
        "print('No of persons those are not not following anyone and also not having any followers are',count)"
      ],
      "execution_count": null,
      "outputs": [
        {
          "output_type": "stream",
          "text": [
            "No of persons those are not not following anyone and also not having any followers are 0\n"
          ],
          "name": "stdout"
        }
      ]
    },
    {
      "cell_type": "markdown",
      "metadata": {
        "id": "49WALSJfO4SY"
      },
      "source": [
        "both followers + following"
      ]
    },
    {
      "cell_type": "code",
      "metadata": {
        "id": "SOKvDnYoOzr0"
      },
      "source": [
        "in_degree = dict(g.in_degree)\n",
        "out_degree = dict(g.out_degree)\n",
        "in_out_degree = Counter(in_degree)+Counter(out_degree)\n",
        "in_out_degree_value = np.array(list(in_out_degree.values()))"
      ],
      "execution_count": null,
      "outputs": []
    },
    {
      "cell_type": "code",
      "metadata": {
        "colab": {
          "base_uri": "https://localhost:8080/",
          "height": 388
        },
        "id": "4c-tkFR-XQ4_",
        "outputId": "ff53ae36-9855-4cac-c6d6-7f8cb10c90c1"
      },
      "source": [
        "in_out_degree_sort = sorted(in_out_degree_value)\n",
        "plt.figure(figsize=(10,6))\n",
        "plt.plot(in_out_degree_sort)\n",
        "plt.xlabel('Index No')\n",
        "plt.ylabel('No Of people each person is following + followers')\n",
        "plt.show()"
      ],
      "execution_count": null,
      "outputs": [
        {
          "output_type": "display_data",
          "data": {
            "image/png": "[encoded data removed]",
            "text/plain": [
              "<Figure size 720x432 with 1 Axes>"
            ]
          },
          "metadata": {
            "tags": []
          }
        }
      ]
    },
    {
      "cell_type": "code",
      "metadata": {
        "colab": {
          "base_uri": "https://localhost:8080/",
          "height": 388
        },
        "id": "9bTfUsSWXZ6O",
        "outputId": "fc32839b-eac5-4f80-d814-e0e3f886ae00"
      },
      "source": [
        "in_out_degree_sort = sorted(in_out_degree_value)\n",
        "plt.figure(figsize=(10,6))\n",
        "plt.plot(in_out_degree_sort[0:1500000])\n",
        "plt.xlabel('Index No')\n",
        "plt.ylabel('No Of people each person is following + followers')\n",
        "plt.show()"
      ],
      "execution_count": null,
      "outputs": [
        {
          "output_type": "display_data",
          "data": {
            "image/png": "[encoded data removed]",
            "text/plain": [
              "<Figure size 720x432 with 1 Axes>"
            ]
          },
          "metadata": {
            "tags": []
          }
        }
      ]
    },
    {
      "cell_type": "code",
      "metadata": {
        "colab": {
          "base_uri": "https://localhost:8080/"
        },
        "id": "7c4j-gRpXiGs",
        "outputId": "3db1e25c-a39e-4737-b24e-322611b63788"
      },
      "source": [
        "### 90-100 percentile\n",
        "for i in range(0,11):\n",
        "    print(90+i,'percentile value is',np.percentile(in_out_degree_sort,90+i))"
      ],
      "execution_count": null,
      "outputs": [
        {
          "output_type": "stream",
          "text": [
            "90 percentile value is 24.0\n",
            "91 percentile value is 26.0\n",
            "92 percentile value is 28.0\n",
            "93 percentile value is 31.0\n",
            "94 percentile value is 33.0\n",
            "95 percentile value is 37.0\n",
            "96 percentile value is 41.0\n",
            "97 percentile value is 48.0\n",
            "98 percentile value is 58.0\n",
            "99 percentile value is 79.0\n",
            "100 percentile value is 1579.0\n"
          ],
          "name": "stdout"
        }
      ]
    },
    {
      "cell_type": "code",
      "metadata": {
        "colab": {
          "base_uri": "https://localhost:8080/"
        },
        "id": "d_MHCyAEXo7j",
        "outputId": "990c1ed7-0fab-4cd6-9391-3e1ab8fa26b2"
      },
      "source": [
        "### 99-100 percentile\n",
        "for i in range(10,110,10):\n",
        "    print(99+(i/100),'percentile value is',np.percentile(in_out_degree_sort,99+(i/100)))"
      ],
      "execution_count": null,
      "outputs": [
        {
          "output_type": "stream",
          "text": [
            "99.1 percentile value is 83.0\n",
            "99.2 percentile value is 87.0\n",
            "99.3 percentile value is 93.0\n",
            "99.4 percentile value is 99.0\n",
            "99.5 percentile value is 108.0\n",
            "99.6 percentile value is 120.0\n",
            "99.7 percentile value is 138.0\n",
            "99.8 percentile value is 168.0\n",
            "99.9 percentile value is 221.0\n",
            "100.0 percentile value is 1579.0\n"
          ],
          "name": "stdout"
        }
      ]
    },
    {
      "cell_type": "code",
      "metadata": {
        "colab": {
          "base_uri": "https://localhost:8080/"
        },
        "id": "vKvDHPXyXqXp",
        "outputId": "57f1286b-5478-4376-bcc3-cd33a50ea75e"
      },
      "source": [
        "print('Min no of follower + following is', in_out_degree_value.min())\n",
        "print('No of user having min no of follower+following',sum(np.array(in_out_degree_value)==in_out_degree_value.min()))"
      ],
      "execution_count": null,
      "outputs": [
        {
          "output_type": "stream",
          "text": [
            "Min no of follower + following is 1\n",
            "No of user having min no of follower+following 334291\n"
          ],
          "name": "stdout"
        }
      ]
    },
    {
      "cell_type": "code",
      "metadata": {
        "colab": {
          "base_uri": "https://localhost:8080/"
        },
        "id": "llxpUh7vYr_M",
        "outputId": "368e9194-d927-4d0b-e74b-751bc377a2f5"
      },
      "source": [
        "print('Max no of follower + following is', in_out_degree_value.max())\n",
        "print('No of user having max no of follower+following',sum(np.array(in_out_degree_value)==in_out_degree_value.max()))"
      ],
      "execution_count": null,
      "outputs": [
        {
          "output_type": "stream",
          "text": [
            "Max no of follower + following is 1579\n",
            "No of user having max no of follower+following 1\n"
          ],
          "name": "stdout"
        }
      ]
    },
    {
      "cell_type": "code",
      "metadata": {
        "colab": {
          "base_uri": "https://localhost:8080/"
        },
        "id": "XwINsxSwY5u2",
        "outputId": "6b5b34c8-7347-4121-b8a2-152eb8215b2e"
      },
      "source": [
        "print('No of users having followers + following less than 10 are',np.sum(in_out_degree_value<10))"
      ],
      "execution_count": null,
      "outputs": [
        {
          "output_type": "stream",
          "text": [
            "No of users having followers + following less than 10 are 1320326\n"
          ],
          "name": "stdout"
        }
      ]
    },
    {
      "cell_type": "code",
      "metadata": {
        "colab": {
          "base_uri": "https://localhost:8080/"
        },
        "id": "5tEx5Gt2Zt2a",
        "outputId": "9c126c73-951f-4675-e034-33afb79714a9"
      },
      "source": [
        "start_time = time.time()\n",
        "weakly_connected_components = list(nx.weakly_connected_components(g))\n",
        "print('No of weekly connected component',len(weakly_connected_components))\n",
        "count = 0\n",
        "for i in weakly_connected_components:\n",
        "  if len(i)==2:\n",
        "    count = count +1\n",
        "print('weakly connected components wit 2 nodes',count)\n",
        "print(time.time() - start_time)"
      ],
      "execution_count": null,
      "outputs": [
        {
          "output_type": "stream",
          "text": [
            "No of weekly connected component 45558\n",
            "weakly connected components wit 2 nodes 32195\n",
            "23.157983779907227\n"
          ],
          "name": "stdout"
        }
      ]
    },
    {
      "cell_type": "markdown",
      "metadata": {
        "id": "5_M7V6CdIYcQ"
      },
      "source": [
        "The below code is randomly generating the negative  group which donot have a link"
      ]
    },
    {
      "cell_type": "code",
      "metadata": {
        "colab": {
          "base_uri": "https://localhost:8080/"
        },
        "id": "rMI4ggLjemB1",
        "outputId": "5be90ed5-e759-45b7-f49f-9279f5e74a8d"
      },
      "source": [
        "start_time = time.time()\n",
        "if not os.path.isfile(source+'/missing_edges_final.p'):\n",
        "  r = csv.reader(open(source+'/train_data_no_header.csv','r'))\n",
        "  edges = dict()\n",
        "  for edge in r:\n",
        "    edges[(edge[0],edge[1])] = 1\n",
        "  missing_edges = set([])\n",
        "  while len(missing_edges)<9437519:\n",
        "    node_1 = random.randint(1,1862220)\n",
        "    node_2 = random.randint(1,1862220)\n",
        "    check_edges = edges.get((node_1,node_2),-1)\n",
        "    if check_edges == -1 and node_1!=node_2:\n",
        "      try:\n",
        "        if nx.shortest_path_length(g,source=node_1,target=node_2) > 2:\n",
        "          missing_edges.add((node_1,node_2))\n",
        "          #break\n",
        "        else:\n",
        "          continue\n",
        "      except:\n",
        "        missing_edges.add((node_1,node_2))\n",
        "    else:\n",
        "      continue\n",
        "    if len(missing_edges)%100000==0:\n",
        "      print('Completed',len(missing_edges))\n",
        "  pickle.dump(missing_edges,open(source+'/missing_edges_final.p','wb'))\n",
        "else:\n",
        "  missing_edges = pickle.load(open(source+'/missing_edges_final.p','rb'))\n",
        "print(time.time() - start_time)"
      ],
      "execution_count": null,
      "outputs": [
        {
          "output_type": "stream",
          "text": [
            "3.0486207008361816\n"
          ],
          "name": "stdout"
        }
      ]
    },
    {
      "cell_type": "code",
      "metadata": {
        "colab": {
          "base_uri": "https://localhost:8080/"
        },
        "id": "9HQTYq62jPbH",
        "outputId": "7ba45405-0a7b-4845-b2f4-25ea31ba49d1"
      },
      "source": [
        "print(len(missing_edges))"
      ],
      "execution_count": null,
      "outputs": [
        {
          "output_type": "stream",
          "text": [
            "9437519\n"
          ],
          "name": "stdout"
        }
      ]
    },
    {
      "cell_type": "code",
      "metadata": {
        "colab": {
          "base_uri": "https://localhost:8080/"
        },
        "id": "w5anDqfdKU9y",
        "outputId": "37ee7cb7-8564-4b1e-e509-06b51bb6f585"
      },
      "source": [
        "df_pos = pd.read_csv(source+'/train.csv')\n",
        "df_neg = pd.DataFrame(list(missing_edges),columns=['source_node', 'destination_node'])\n",
        "print('Shape of positive',df_pos.shape)\n",
        "print('Shape of negative',df_neg.shape)\n",
        "print('*'*50)\n",
        "X_train_pos, X_test_pos, y_train_pos, y_test_pos  = train_test_split(df_pos,np.ones(len(df_pos)),test_size=0.2, random_state=9)\n",
        "X_train_neg, X_test_neg, y_train_neg, y_test_neg  = train_test_split(df_neg,np.zeros(len(df_neg)),test_size=0.2, random_state=9)\n",
        "print('Number of nodes in the train data graph with edges',X_train_pos.shape[0],y_train_pos.shape[0])\n",
        "print('Number of nodes in the train data graph without edges',X_train_neg.shape[0],y_train_neg.shape[0])\n",
        "print('*'*50)\n",
        "print('Number of nodes in the test data graph with edges',X_test_pos.shape[0],y_test_pos.shape[0])\n",
        "print('Number of nodes in the test data graph without edges',X_test_neg.shape[0],y_test_neg.shape[0])  "
      ],
      "execution_count": null,
      "outputs": [
        {
          "output_type": "stream",
          "text": [
            "Shape of positive (9437519, 2)\n",
            "Shape of negative (9437519, 2)\n",
            "**************************************************\n",
            "Number of nodes in the train data graph with edges 7550015 7550015\n",
            "Number of nodes in the train data graph without edges 7550015 7550015\n",
            "**************************************************\n",
            "Number of nodes in the test data graph with edges 1887504 1887504\n",
            "Number of nodes in the test data graph without edges 1887504 1887504\n"
          ],
          "name": "stdout"
        }
      ]
    },
    {
      "cell_type": "code",
      "metadata": {
        "id": "8yqrKiWojPeB"
      },
      "source": [
        "if (not os.path.isfile(source+'/train_pos_after_eda.csv')) and (not os.path.isfile(source+'/test_pos_after_eda.csv')):\n",
        "\n",
        "  df_pos = pd.read_csv(source+'/train.csv')\n",
        "  df_neg = pd.DataFrame(list(missing_edges),columns=['source_node', 'destination_node'])\n",
        "  print('Shape of positive',df_pos.shape)\n",
        "  print('Shape of negative',df_neg.shape)\n",
        "  print('*'*50)\n",
        "  X_train_pos, X_test_pos, y_train_pos, y_test_pos  = train_test_split(df_pos,np.ones(len(df_pos)),test_size=0.2, random_state=9)\n",
        "  X_train_neg, X_test_neg, y_train_neg, y_test_neg  = train_test_split(df_neg,np.zeros(len(df_neg)),test_size=0.2, random_state=9)\n",
        "  print('Number of nodes in the train data graph with edges',X_train_pos.shape[0],y_train_pos.shape[0])\n",
        "  print('Number of nodes in the train data graph without edges',X_train_neg.shape[0],y_train_neg.shape[0])\n",
        "  print('*'*50)\n",
        "  print('Number of nodes in the test data graph with edges',X_test_pos.shape[0],y_test_pos.shape[0])\n",
        "  print('Number of nodes in the test data graph without edges',X_test_neg.shape[0],y_test_neg.shape[0])\n",
        "\n",
        "  X_train_pos.to_csv(source+'/train_pos_after_eda.csv',header=False, index=False)\n",
        "  X_test_pos.to_csv(source+'/test_pos_after_eda.csv',header=False, index=False)\n",
        "  X_train_neg.to_csv(source+'/train_neg_after_eda.csv',header=False, index=False)\n",
        "  X_test_neg.to_csv(source+'/test_neg_after_eda.csv',header=False, index=False)\n",
        "\n"
      ],
      "execution_count": null,
      "outputs": []
    },
    {
      "cell_type": "code",
      "metadata": {
        "colab": {
          "base_uri": "https://localhost:8080/"
        },
        "id": "mhcbijbOnvoV",
        "outputId": "9957185a-61d1-4a47-ea05-8ea1f83c1ff7"
      },
      "source": [
        "if (os.path.isfile(source+'/train_pos_after_eda.csv')) and (os.path.isfile(source+'/test_pos_after_eda.csv')):\n",
        "  train_graph = nx.read_edgelist(source+'/train_pos_after_eda.csv',delimiter=',',create_using=nx.DiGraph(),nodetype=int)\n",
        "  test_graph = nx.read_edgelist(source+'/test_pos_after_eda.csv',delimiter=',',create_using=nx.DiGraph(),nodetype=int)\n",
        "  print(nx.info(train_graph))\n",
        "  print('*'*50)\n",
        "  print(nx.info(test_graph))\n",
        "  print('*'*50)\n",
        "\n",
        "  train_nodes_pos = set(train_graph.nodes())\n",
        "  test_nodes_pos = set(test_graph.nodes())\n",
        "\n",
        "  print('no of people common in train and test:',len(train_nodes_pos.intersection(test_nodes_pos)))\n",
        "  print('no of people present in train but not present in test:',len(train_nodes_pos-test_nodes_pos))\n",
        "\n",
        "  print('no of people present in test but not present in train:',len(test_nodes_pos-train_nodes_pos))\n",
        "\n"
      ],
      "execution_count": null,
      "outputs": [
        {
          "output_type": "stream",
          "text": [
            "Name: \n",
            "Type: DiGraph\n",
            "Number of nodes: 1780722\n",
            "Number of edges: 7550015\n",
            "Average in degree:   4.2399\n",
            "Average out degree:   4.2399\n",
            "**************************************************\n",
            "Name: \n",
            "Type: DiGraph\n",
            "Number of nodes: 1144623\n",
            "Number of edges: 1887504\n",
            "Average in degree:   1.6490\n",
            "Average out degree:   1.6490\n",
            "**************************************************\n",
            "no of people common in train and test: 1063125\n",
            "no of people present in train but not present in test: 717597\n",
            "no of people present in test but not present in train: 81498\n"
          ],
          "name": "stdout"
        }
      ]
    },
    {
      "cell_type": "code",
      "metadata": {
        "colab": {
          "base_uri": "https://localhost:8080/"
        },
        "id": "ewwjPDzdHk1I",
        "outputId": "b73c430b-da0d-49b5-bec6-b31f92c01376"
      },
      "source": [
        "X_train_pos = pd.read_csv(source+'/train_pos_after_eda.csv', names=['source_node', 'destination_node'])\n",
        "X_test_pos = pd.read_csv(source+'/test_pos_after_eda.csv', names=['source_node', 'destination_node'])\n",
        "X_train_neg = pd.read_csv(source+'/train_neg_after_eda.csv', names=['source_node', 'destination_node'])\n",
        "X_test_neg = pd.read_csv(source+'/test_neg_after_eda.csv', names=['source_node', 'destination_node'])\n",
        "\n",
        "print(\"Number of nodes in the train data graph with edges\", X_train_pos.shape[0])\n",
        "print(\"Number of nodes in the train data graph without edges\", X_train_neg.shape[0])\n",
        "print('*'*50)\n",
        "print(\"Number of nodes in the test data graph with edges\", X_test_pos.shape[0])\n",
        "print(\"Number of nodes in the test data graph without edges\", X_test_neg.shape[0])\n",
        "\n",
        "X_train = X_train_pos.append(X_train_neg,ignore_index=True)\n",
        "y_train = np.concatenate((y_train_pos,y_train_neg))\n",
        "X_test = X_test_pos.append(X_test_neg,ignore_index=True)\n",
        "y_test = np.concatenate((y_test_pos,y_test_neg))\n",
        "\n",
        "X_train.to_csv(source+'/train_after_eda.csv',header=False,index=False)\n",
        "X_test.to_csv(source+'/test_after_eda.csv',header=False,index=False)\n",
        "pd.DataFrame(y_train.astype(int)).to_csv(source+'/train_y.csv',header=False,index=False)\n",
        "pd.DataFrame(y_test.astype(int)).to_csv(source+'/test_y.csv',header=False,index=False)\n",
        "\n",
        "print('*'*50)\n",
        "print(\"Data points in train data\",X_train.shape)\n",
        "print(\"Data points in test data\",X_test.shape)\n",
        "print(\"Shape of traget variable in train\",y_train.shape)\n",
        "print(\"Shape of traget variable in test\", y_test.shape)"
      ],
      "execution_count": null,
      "outputs": [
        {
          "output_type": "stream",
          "text": [
            "Number of nodes in the train data graph with edges 7550015\n",
            "Number of nodes in the train data graph without edges 7550015\n",
            "**************************************************\n",
            "Number of nodes in the test data graph with edges 1887504\n",
            "Number of nodes in the test data graph without edges 1887504\n",
            "**************************************************\n",
            "Data points in train data (15100030, 2)\n",
            "Data points in test data (3775008, 2)\n",
            "Shape of traget variable in train (15100030,)\n",
            "Shape of traget variable in test (3775008,)\n"
          ],
          "name": "stdout"
        }
      ]
    },
    {
      "cell_type": "markdown",
      "metadata": {
        "id": "hxOAwNrNI6_H"
      },
      "source": [
        "The original graph on which all the featurization will be done for all the nodes."
      ]
    },
    {
      "cell_type": "code",
      "metadata": {
        "colab": {
          "base_uri": "https://localhost:8080/"
        },
        "id": "0bbGeihHNMnh",
        "outputId": "486040da-0667-49c6-832c-ca6b67add2e4"
      },
      "source": [
        "if os.path.isfile(source+'/train_pos_after_eda.csv'):\n",
        "    train_graph=nx.read_edgelist(source+'/train_pos_after_eda.csv',delimiter=',',create_using=nx.DiGraph(),nodetype=int)\n",
        "    print(nx.info(train_graph))\n",
        "else:\n",
        "    print(\"please run the FB_EDA.ipynb or download the files from drive\")"
      ],
      "execution_count": null,
      "outputs": [
        {
          "output_type": "stream",
          "text": [
            "Name: \n",
            "Type: DiGraph\n",
            "Number of nodes: 1780722\n",
            "Number of edges: 7550015\n",
            "Average in degree:   4.2399\n",
            "Average out degree:   4.2399\n"
          ],
          "name": "stdout"
        }
      ]
    },
    {
      "cell_type": "code",
      "metadata": {
        "id": "3cM0DBHtK63H"
      },
      "source": [
        "#for followees\n",
        "def jaccard_for_followees(node_1,node_2):\n",
        "  try:\n",
        "    node_1_set = set(train_graph.successors(node_1)) \n",
        "    node_2_set = set(train_graph.successors(node_2))\n",
        "    if len(node_1_set)==0 | len(node_2_set)==0:\n",
        "      return 0\n",
        "    else:\n",
        "      sim = len(node_1_set.intersection(node_2_set))/len(node_1_set.union(node_2_set))\n",
        "  except:\n",
        "    return 0\n",
        "  return sim"
      ],
      "execution_count": null,
      "outputs": []
    },
    {
      "cell_type": "code",
      "metadata": {
        "id": "vlaBH3oWPpTs"
      },
      "source": [
        "def jaccard_for_followers(node_1,node_2):\n",
        "  try:\n",
        "    node_1_set = set(train_graph.predecessors(node_1)) \n",
        "    node_2_set = set(train_graph.predecessors(node_2))\n",
        "    if len(node_1_set)==0 | len(node_2_set)==0:\n",
        "      return 0\n",
        "    else:\n",
        "      sim = len(node_1_set.intersection(node_2_set))/len(node_1_set.union(node_2_set))\n",
        "  except:\n",
        "    return 0\n",
        "  return sim"
      ],
      "execution_count": null,
      "outputs": []
    },
    {
      "cell_type": "code",
      "metadata": {
        "id": "Wr1XWo1SXHD-"
      },
      "source": [
        "def cosine_for_followees(node_1,node_2):\n",
        "  try:\n",
        "    node_1_set = set(train_graph.successors(node_1)) \n",
        "    node_2_set = set(train_graph.successors(node_2))\n",
        "    if len(node_1_set)==0 | len(node_2_set)==0:\n",
        "      return 0\n",
        "    else:\n",
        "      sim = len(node_1_set.intersection(node_2_set))/(math.sqrt(len(node_1_set)*len(node_2_set)))\n",
        "  except:\n",
        "    return 0\n",
        "  return sim"
      ],
      "execution_count": null,
      "outputs": []
    },
    {
      "cell_type": "code",
      "metadata": {
        "id": "7RZfqvoiYIvF"
      },
      "source": [
        "def cosine_for_followers(node_1,node_2):\n",
        "  try:\n",
        "    node_1_set = set(train_graph.predecessors(node_1)) \n",
        "    node_2_set = set(train_graph.predecessors(node_2))\n",
        "    if len(node_1_set)==0 | len(node_2_set)==0:\n",
        "      return 0\n",
        "    else:\n",
        "      sim = len(node_1_set.intersection(node_2_set))/(math.sqrt(len(node_1_set)*len(node_2_set)))\n",
        "      #print(len(node_1_set.intersection(node_2_set)),len(node_1_set),len(node_2_set))\n",
        "  except:\n",
        "    return 0\n",
        "  return sim"
      ],
      "execution_count": null,
      "outputs": []
    },
    {
      "cell_type": "code",
      "metadata": {
        "id": "JGVVc4qoajF1"
      },
      "source": [
        "if not os.path.isfile(source+'/page_rank.p'):\n",
        "  page_rank = nx.pagerank(train_graph,alpha=0.85)\n",
        "  pickle.dump(page_rank,open(source+'/page_rank','wb'))\n",
        "else:\n",
        "  page_rank = pickle.load(open(source+'/page_rank','r'))"
      ],
      "execution_count": null,
      "outputs": []
    },
    {
      "cell_type": "code",
      "metadata": {
        "colab": {
          "base_uri": "https://localhost:8080/"
        },
        "id": "QC2FqPHeaLcI",
        "outputId": "77bf9962-f5c3-47ab-a9fe-d4f561346898"
      },
      "source": [
        "print('min',page_rank[min(page_rank, key=page_rank.get)])\n",
        "print('max',page_rank[max(page_rank, key=page_rank.get)])\n",
        "mean_pr = float(sum(page_rank.values())) / len(page_rank)\n",
        "print('mean',mean_pr)"
      ],
      "execution_count": null,
      "outputs": [
        {
          "output_type": "stream",
          "text": [
            "min 1.6556497245737814e-07\n",
            "max 2.7098251341935827e-05\n",
            "mean 5.615699699389075e-07\n"
          ],
          "name": "stdout"
        }
      ]
    },
    {
      "cell_type": "code",
      "metadata": {
        "id": "HERsOH7XdqPp"
      },
      "source": [
        "def compute_shortest_path_length(node_1,node_2):\n",
        "  p = -1\n",
        "  try:\n",
        "    if train_graph.has_edge(node_1,node_2):\n",
        "      train_graph.remove_edge(node_1,node_2)\n",
        "      p = nx.shortest_path_length(train_graph,node_1,node_2)\n",
        "      train_graph.add_edge(node_1,node_2)\n",
        "    else:\n",
        "      p = nx.shortest_path_length(train_graph,node_1,node_2)\n",
        "    return p\n",
        "  except:\n",
        "    return -1"
      ],
      "execution_count": null,
      "outputs": []
    },
    {
      "cell_type": "code",
      "metadata": {
        "id": "1WKTsudKgbC5"
      },
      "source": [
        "wcc = list(nx.weakly_connected_components(train_graph))\n",
        "def belongs_to_same_wcc(node_1,node_2):\n",
        "  index = []\n",
        "  if train_graph.has_edge(node_2,node_1):\n",
        "    return 1\n",
        "  if train_graph.has_edge(node_1,node_2):\n",
        "    for i in wcc:\n",
        "      if node_1 in i:\n",
        "        index = i\n",
        "        break\n",
        "    if node_2 in index:\n",
        "      train_graph.remove_edge(node_1,node_2)\n",
        "      if compute_shortest_path_length(node_1,node_2)==-1:\n",
        "        train_graph.add_edge(node_1,node_2)\n",
        "        return 0\n",
        "      else:\n",
        "        train_graph.add_edge(node_1,node_2)\n",
        "        return 1\n",
        "    else:\n",
        "      return 0\n",
        "  else:\n",
        "    for i in wcc:\n",
        "      if node_1 in i:\n",
        "        index = i\n",
        "        break\n",
        "    if node_2 in index:\n",
        "      return 1\n",
        "    else:\n",
        "      return 0"
      ],
      "execution_count": null,
      "outputs": []
    },
    {
      "cell_type": "code",
      "metadata": {
        "id": "3lfkleVrqNnb"
      },
      "source": [
        "def calc_adar_in(node_1,node_2):\n",
        "  try:\n",
        "    sum = 0\n",
        "    nodes = list(set(train_graph.successors(node_1)).intersection(set(train_graph.successors(node_2))))\n",
        "    if len(n)>0:\n",
        "      for node in nodes:\n",
        "        sum = sum + (1/(np.log10(len(list(train_graph.predecessors(node))))))\n",
        "      return sum\n",
        "    else:\n",
        "      return 0\n",
        "  except:\n",
        "    return 0"
      ],
      "execution_count": null,
      "outputs": []
    },
    {
      "cell_type": "code",
      "metadata": {
        "id": "N4gbESexsV4j"
      },
      "source": [
        "def follows_back(node_1,node_2):\n",
        "  if train_graph.has_edge(node_2,node_1):\n",
        "    return 1\n",
        "  else:\n",
        "    return 0"
      ],
      "execution_count": null,
      "outputs": []
    },
    {
      "cell_type": "code",
      "metadata": {
        "colab": {
          "base_uri": "https://localhost:8080/"
        },
        "id": "ylbgesZYuElf",
        "outputId": "bf56c1d4-e9a5-4819-a18a-26596609d0dc"
      },
      "source": [
        "if not os.path.isfile(source+'/katz.p'):\n",
        "    katz = nx.katz.katz_centrality(train_graph,alpha=0.005,beta=1)\n",
        "    pickle.dump(katz,open(source+'/katz.p','wb'))\n",
        "    print('New file created')\n",
        "else:\n",
        "    katz = pickle.load(open(source+'/katz.p','rb'))\n",
        "    print('Exicting file loaded')"
      ],
      "execution_count": null,
      "outputs": [
        {
          "output_type": "stream",
          "text": [
            "Exicting file loaded\n"
          ],
          "name": "stdout"
        }
      ]
    },
    {
      "cell_type": "code",
      "metadata": {
        "colab": {
          "base_uri": "https://localhost:8080/"
        },
        "id": "gijgMa13aruY",
        "outputId": "bdd91c0b-5fe4-42bb-c982-44286f4a334e"
      },
      "source": [
        "print('min',katz[min(katz, key=katz.get)])\n",
        "print('max',katz[max(katz, key=katz.get)])\n",
        "mean_katz = float(sum(katz.values())) / len(katz)\n",
        "print('mean',mean_katz)"
      ],
      "execution_count": null,
      "outputs": [
        {
          "output_type": "stream",
          "text": [
            "min 0.0007313532484065916\n",
            "max 0.003394554981699122\n",
            "mean 0.0007483800935562018\n"
          ],
          "name": "stdout"
        }
      ]
    },
    {
      "cell_type": "code",
      "metadata": {
        "colab": {
          "base_uri": "https://localhost:8080/"
        },
        "id": "azAwmumFubdH",
        "outputId": "6379c140-c55e-4fb8-8108-5f1e59724f8c"
      },
      "source": [
        "if not os.path.isfile(source+'/hits.p'):\n",
        "    hits = nx.hits(train_graph, max_iter=100, tol=1e-08, nstart=None, normalized=True)\n",
        "    pickle.dump(hits,open(source+'/hits.p','wb'))\n",
        "    print('New file created')\n",
        "else:\n",
        "    hits = pickle.load(open(source+'/hits.p','rb'))\n",
        "    print('Exicting file loaded')"
      ],
      "execution_count": null,
      "outputs": [
        {
          "output_type": "stream",
          "text": [
            "Exicting file loaded\n"
          ],
          "name": "stdout"
        }
      ]
    },
    {
      "cell_type": "code",
      "metadata": {
        "colab": {
          "base_uri": "https://localhost:8080/"
        },
        "id": "R67WSZaMa5v7",
        "outputId": "74dedb72-253c-4b55-9da9-40c1681bc40b"
      },
      "source": [
        "print('min',hits[0][min(hits[0], key=hits[0].get)])\n",
        "print('max',hits[0][max(hits[0], key=hits[0].get)])\n",
        "print('mean',float(sum(hits[0].values())) / len(hits[0]))"
      ],
      "execution_count": null,
      "outputs": [
        {
          "output_type": "stream",
          "text": [
            "min 0.0\n",
            "max 0.004868653378780953\n",
            "mean 5.615699699344123e-07\n"
          ],
          "name": "stdout"
        }
      ]
    },
    {
      "cell_type": "code",
      "metadata": {
        "id": "sIfpqy5zv2nI"
      },
      "source": [
        "def pf_attachment_for_followers(node_1,node_2):\n",
        "  try:\n",
        "    node_1_value = set(train_graph.predecessors(node_1))\n",
        "    node_2_value = set(train_graph.predecessors(node_2))\n",
        "    if len(node_1_value)==0 | len(node_2_value)==0:\n",
        "      return 0\n",
        "    score = len(node_1_value*node_2_value)\n",
        "    return score\n",
        "  except:\n",
        "    return 0"
      ],
      "execution_count": null,
      "outputs": []
    },
    {
      "cell_type": "code",
      "metadata": {
        "id": "HNFd0TJLVdzj"
      },
      "source": [
        "def pf_attachment_for_followees(node_1,node_2):\n",
        "  try:\n",
        "    node_1_value = set(train_graph.successors(node_1))\n",
        "    node_2_value = set(train_graph.successors(node_2))\n",
        "    if len(node_1_value)==0 | len(node_2_value)==0:\n",
        "      return 0\n",
        "    score = len(node_1_value*node_2_value)\n",
        "    return score\n",
        "  except:\n",
        "    return 0"
      ],
      "execution_count": null,
      "outputs": []
    },
    {
      "cell_type": "code",
      "metadata": {
        "id": "IYzvH8pYctCb"
      },
      "source": [
        "# #delete the step an remove skip from next step\n",
        "# n_train =  15100030\n",
        "# s = 10000 #desired sample size\n",
        "# skip_train = sorted(random.sample(range(1,n_train+1),n_train-s))\n",
        "# n_test = 3775008\n",
        "# s = 5000 #desired sample size\n",
        "# skip_test = sorted(random.sample(range(1,n_test+1),n_test-s))"
      ],
      "execution_count": null,
      "outputs": []
    },
    {
      "cell_type": "code",
      "metadata": {
        "id": "m8mTIZecdIOp"
      },
      "source": [
        "# print(n_test-len(skip_test))"
      ],
      "execution_count": null,
      "outputs": []
    },
    {
      "cell_type": "code",
      "metadata": {
        "colab": {
          "base_uri": "https://localhost:8080/"
        },
        "id": "vIkw7LC0YTle",
        "outputId": "3ad9ea77-be72-41a2-ec94-3ca6a1a9dd03"
      },
      "source": [
        "df_final_train = pd.read_csv(source+'/train_after_eda.csv',names=['source_node', 'destination_node'])#skiprows=skip_train,\n",
        "df_final_train['indicator_link'] = pd.read_csv(source+'/train_y.csv',names=['indicator_link'])#skiprows=skip_train,\n",
        "print(df_final_train.head())\n",
        "print(df_final_train.shape)"
      ],
      "execution_count": null,
      "outputs": [
        {
          "output_type": "stream",
          "text": [
            "   source_node  destination_node  indicator_link\n",
            "0       273084           1505602               1\n",
            "1       912810           1678443               1\n",
            "2       365429           1523458               1\n",
            "3       527014           1605979               1\n",
            "4      1228116            471233               1\n",
            "(15100030, 3)\n"
          ],
          "name": "stdout"
        }
      ]
    },
    {
      "cell_type": "code",
      "metadata": {
        "colab": {
          "base_uri": "https://localhost:8080/"
        },
        "id": "PXw-3cXweZK4",
        "outputId": "85347fd2-0e17-4224-c974-40fe5f25b095"
      },
      "source": [
        "df_final_test = pd.read_csv(source+'/test_after_eda.csv',names=['source_node', 'destination_node'])#skiprows=skip_test,\n",
        "df_final_test['indicator_link'] = pd.read_csv(source+'/test_y.csv',names=['indicator_link'])# skiprows=skip_test, \n",
        "print(df_final_test.head())\n",
        "print(df_final_test.shape)"
      ],
      "execution_count": null,
      "outputs": [
        {
          "output_type": "stream",
          "text": [
            "   source_node  destination_node  indicator_link\n",
            "0       848424            784690               1\n",
            "1      1248963            444518               1\n",
            "2       264224            132395               1\n",
            "3       549680            326829               1\n",
            "4       875380           1394902               1\n",
            "(3775008, 3)\n"
          ],
          "name": "stdout"
        }
      ]
    },
    {
      "cell_type": "code",
      "metadata": {
        "colab": {
          "base_uri": "https://localhost:8080/"
        },
        "id": "vcDr2ITffBX7",
        "outputId": "c6895802-bece-4e2d-b782-286d00cf05a3"
      },
      "source": [
        "if not os.path.isfile(source+'/df_final_train_stage_1.csv'):\n",
        "\n",
        "  df_final_train['jaccard_followers'] = df_final_train.apply(lambda row:jaccard_for_followers(row['source_node'],row['destination_node']),axis=1)\n",
        "  df_final_test['jaccard_followers'] = df_final_test.apply(lambda row:jaccard_for_followers(row['source_node'],row['destination_node']),axis=1)\n",
        "\n",
        "  df_final_train['jaccard_followees'] = df_final_train.apply(lambda row:jaccard_for_followees(row['source_node'],row['destination_node']),axis=1)\n",
        "  df_final_test['jaccard_followees'] = df_final_test.apply(lambda row:jaccard_for_followees(row['source_node'],row['destination_node']),axis=1)\n",
        "\n",
        "  df_final_train['cosine_followers'] = df_final_train.apply(lambda row: cosine_for_followers(row['source_node'],row['destination_node']),axis=1)\n",
        "  df_final_test['cosine_followers'] = df_final_test.apply(lambda row: cosine_for_followers(row['source_node'],row['destination_node']),axis=1)\n",
        "\n",
        "  df_final_train['cosine_followees'] = df_final_train.apply(lambda row: cosine_for_followees(row['source_node'],row['destination_node']),axis=1)\n",
        "  df_final_test['cosine_followees'] = df_final_test.apply(lambda row: cosine_for_followees(row['source_node'],row['destination_node']),axis=1)\n",
        "else:\n",
        "  print('no')"
      ],
      "execution_count": null,
      "outputs": [
        {
          "output_type": "stream",
          "text": [
            "no\n"
          ],
          "name": "stdout"
        }
      ]
    },
    {
      "cell_type": "code",
      "metadata": {
        "colab": {
          "base_uri": "https://localhost:8080/"
        },
        "id": "fym6KT-jwfY4",
        "outputId": "7eac933c-4bef-4875-94ca-eda6e6c77989"
      },
      "source": [
        "print(df_final_train.head())\n",
        "print(df_final_train.shape)\n",
        "print(df_final_test.head())\n",
        "print(df_final_test.shape)"
      ],
      "execution_count": null,
      "outputs": [
        {
          "output_type": "stream",
          "text": [
            "   source_node  destination_node  indicator_link\n",
            "0       273084           1505602               1\n",
            "1       912810           1678443               1\n",
            "2       365429           1523458               1\n",
            "3       527014           1605979               1\n",
            "4      1228116            471233               1\n",
            "(15100030, 3)\n",
            "   source_node  destination_node  indicator_link\n",
            "0       848424            784690               1\n",
            "1      1248963            444518               1\n",
            "2       264224            132395               1\n",
            "3       549680            326829               1\n",
            "4       875380           1394902               1\n",
            "(3775008, 3)\n"
          ],
          "name": "stdout"
        }
      ]
    },
    {
      "cell_type": "code",
      "metadata": {
        "id": "AySi2urkjugl"
      },
      "source": [
        "def compute_features_stage1(dataset):\n",
        "  num_followers_s = []\n",
        "  num_followees_s = []\n",
        "  num_followers_d = []\n",
        "  num_followees_d = []\n",
        "  inter_followers = []\n",
        "  inter_followees = []\n",
        "\n",
        "  for i,row in dataset.iterrows():\n",
        "    try:\n",
        "      source_pre = set(train_graph.predecessors(row['source_node']))\n",
        "      source_suc = set(train_graph.successors(row['source_node']))\n",
        "    except:\n",
        "      source_pre = set()\n",
        "      source_suc = set()\n",
        "    try:\n",
        "      dest_pre = set(train_graph.predecessors(row['destination_node']))\n",
        "      dest_suc = set(train_graph.successors(row['destination_node']))\n",
        "    except:\n",
        "      dest_pre = set()\n",
        "      dest_suc = set()\n",
        "    \n",
        "    num_followers_s.append(len(source_pre))\n",
        "    num_followees_s.append(len(source_suc))\n",
        "\n",
        "    num_followers_d.append(len(dest_pre))\n",
        "    num_followees_d.append(len(dest_suc))\n",
        "\n",
        "    inter_followers.append(len(source_pre.intersection(dest_pre)))\n",
        "    inter_followees.append(len(source_suc.intersection(dest_suc)))\n",
        "  return num_followers_s, num_followers_d, num_followees_s, num_followees_d, inter_followers, inter_followees"
      ],
      "execution_count": null,
      "outputs": []
    },
    {
      "cell_type": "code",
      "metadata": {
        "id": "IOXpDwliu7Em"
      },
      "source": [
        "if not os.path.isfile(source+'/df_final_train_stage_1.csv'):\n",
        "\n",
        "  df_final_train['num_followers_s'], df_final_train['num_followers_d'],df_final_train['num_followees_s'], df_final_train['num_followees_d'],df_final_train['inter_followers'], df_final_train['inter_followees']= compute_features_stage1(df_final_train)\n",
        "  df_final_test['num_followers_s'], df_final_test['num_followers_d'],df_final_test['num_followees_s'], df_final_test['num_followees_d'],df_final_test['inter_followers'], df_final_test['inter_followees']= compute_features_stage1(df_final_test)\n",
        "  \n",
        "  df_final_train.to_csv(source+'/df_final_train_stage_1.csv',index=False)\n",
        "  df_final_test.to_csv(source+'/df_final_test_stage_1.csv',index=False)\n",
        "else:\n",
        "  df_final_train = pd.read_csv(source+'/df_final_train_stage_1.csv', index_col=False)\n",
        "  df_final_test = pd.read_csv(source+'/df_final_test_stage_1.csv', index_col=False)\n"
      ],
      "execution_count": null,
      "outputs": []
    },
    {
      "cell_type": "code",
      "metadata": {
        "colab": {
          "base_uri": "https://localhost:8080/"
        },
        "id": "QVWqSifM0H1z",
        "outputId": "cb291a04-cede-4479-de7a-e383d3a93ec4"
      },
      "source": [
        "df_final_train[['num_followers_s','num_followees_d','inter_followees']].info()"
      ],
      "execution_count": null,
      "outputs": [
        {
          "output_type": "stream",
          "text": [
            "<class 'pandas.core.frame.DataFrame'>\n",
            "RangeIndex: 15100030 entries, 0 to 15100029\n",
            "Data columns (total 3 columns):\n",
            " #   Column           Dtype\n",
            "---  ------           -----\n",
            " 0   num_followers_s  int64\n",
            " 1   num_followees_d  int64\n",
            " 2   inter_followees  int64\n",
            "dtypes: int64(3)\n",
            "memory usage: 345.6 MB\n"
          ],
          "name": "stdout"
        }
      ]
    },
    {
      "cell_type": "code",
      "metadata": {
        "colab": {
          "base_uri": "https://localhost:8080/"
        },
        "id": "pwM8dsJ8wmdM",
        "outputId": "a2e64071-fbe9-4331-cfd4-cc74838a32a7"
      },
      "source": [
        "print(df_final_train.head())\n",
        "print(df_final_train.shape)\n",
        "print(df_final_test.head())\n",
        "print(df_final_test.shape)"
      ],
      "execution_count": null,
      "outputs": [
        {
          "output_type": "stream",
          "text": [
            "   source_node  destination_node  indicator_link  jaccard_followers  \\\n",
            "0       273084           1505602               1           0.000000   \n",
            "1       912810           1678443               1           0.058824   \n",
            "2       365429           1523458               1           0.033058   \n",
            "3       527014           1605979               1           0.000000   \n",
            "4      1228116            471233               1           0.068966   \n",
            "\n",
            "   jaccard_followees  cosine_followers  cosine_followees  num_followers_s  \\\n",
            "0           0.000000          0.000000          0.000000               11   \n",
            "1           0.058824          0.111803          0.111803               10   \n",
            "2           0.023077          0.068599          0.046761               40   \n",
            "3           0.000000          0.000000          0.000000                0   \n",
            "4           0.162162          0.154303          0.279751               14   \n",
            "\n",
            "   num_followers_d  num_followees_s  num_followees_d  inter_followers  \\\n",
            "0                6               15                8                0   \n",
            "1                8               10                8                1   \n",
            "2               85               49               84                4   \n",
            "3                1                1                0                0   \n",
            "4               48               23               20                4   \n",
            "\n",
            "   inter_followees  \n",
            "0                0  \n",
            "1                1  \n",
            "2                3  \n",
            "3                0  \n",
            "4                6  \n",
            "(15100030, 13)\n",
            "   source_node  destination_node  indicator_link  jaccard_followers  \\\n",
            "0       848424            784690               1           0.052632   \n",
            "1      1248963            444518               1           0.000000   \n",
            "2       264224            132395               1           0.375000   \n",
            "3       549680            326829               1           0.115385   \n",
            "4       875380           1394902               1           0.190476   \n",
            "\n",
            "   jaccard_followees  cosine_followers  cosine_followees  num_followers_s  \\\n",
            "0           0.000000          0.109109          0.000000                6   \n",
            "1           0.000000          0.000000          0.000000                5   \n",
            "2           0.400000          0.612372          0.571429                8   \n",
            "3           0.040000          0.210042          0.077850               17   \n",
            "4           0.184211          0.324176          0.313050               21   \n",
            "\n",
            "   num_followers_d  num_followees_s  num_followees_d  inter_followers  \\\n",
            "0               14                6                9                1   \n",
            "1                1                8                2                0   \n",
            "2                3                7                7                3   \n",
            "3               12               11               15                3   \n",
            "4               29               20               25                8   \n",
            "\n",
            "   inter_followees  \n",
            "0                0  \n",
            "1                0  \n",
            "2                4  \n",
            "3                1  \n",
            "4                7  \n",
            "(3775008, 13)\n"
          ],
          "name": "stdout"
        }
      ]
    },
    {
      "cell_type": "code",
      "metadata": {
        "id": "APjhL9WSXQ4v"
      },
      "source": [
        "if not os.path.isfile(source+'/df_final_train_stage_2.csv'):\n",
        "\n",
        "  df_final_train['adar_index'] = df_final_train.apply(lambda row: calc_adar_in(row['source_node'],row['destination_node']),axis=1)\n",
        "  df_final_test['adar_index'] = df_final_test.apply(lambda row: calc_adar_in(row['source_node'],row['destination_node']),axis=1)\n",
        "\n",
        "  df_final_train['follows_back'] = df_final_train.apply(lambda row: follows_back(row['source_node'],row['destination_node']),axis=1)\n",
        "  df_final_test['follows_back'] = df_final_test.apply(lambda row: follows_back(row['source_node'],row['destination_node']),axis=1)\n",
        "\n",
        "  df_final_train['same_comp'] = df_final_train.apply(lambda row: belongs_to_same_wcc(row['source_node'],row['destination_node']),axis=1)\n",
        "  df_final_test['same_comp'] = df_final_test.apply(lambda row: belongs_to_same_wcc(row['source_node'],row['destination_node']),axis=1)\n",
        "\n",
        "  df_final_train['shortest_path'] = df_final_train.apply(lambda row: compute_shortest_path_length(row['source_node'],row['destination_node']),axis=1)\n",
        "  df_final_test['shortest_path'] = df_final_test.apply(lambda row: compute_shortest_path_length(row['source_node'],row['destination_node']),axis=1)\n",
        "  \n",
        "  df_final_train['pf_attachment_followers'] = df_final_train.apply(lambda row: pf_attachment_for_followers(row['source_node'],row['destination_node']),axis=1)\n",
        "  df_final_test['pf_attachment_followers'] = df_final_test.apply(lambda row: pf_attachment_for_followers(row['source_node'],row['destination_node']),axis=1)\n",
        "\n",
        "  df_final_train['pf_attachment_followees'] = df_final_train.apply(lambda row: pf_attachment_for_followees(row['source_node'],row['destination_node']),axis=1)\n",
        "  df_final_test['pf_attachment_followees'] = df_final_test.apply(lambda row: pf_attachment_for_followees(row['source_node'],row['destination_node']),axis=1)\n",
        "\n",
        "  df_final_train.to_csv(source+'/df_final_train_stage_2.csv',index=False)\n",
        "  df_final_test.to_csv(source+'/df_final_test_stage_2.csv',index=False)\n",
        "else:\n",
        "  df_final_train = pd.read_csv(source+'/df_final_train_stage_2.csv', index_col=False)\n",
        "  df_final_test = pd.read_csv(source+'/df_final_test_stage_2.csv', index_col=False)"
      ],
      "execution_count": null,
      "outputs": []
    },
    {
      "cell_type": "code",
      "metadata": {
        "id": "IB-XFd2IY5NP",
        "outputId": "4543bcc3-a810-45a8-e73c-9918c4959b03"
      },
      "source": [
        "print(df_final_train.head())\n",
        "print(df_final_train.shape)\n",
        "print(df_final_test.head())\n",
        "print(df_final_test.shape)"
      ],
      "execution_count": null,
      "outputs": [
        {
          "output_type": "stream",
          "text": [
            "   source_node  destination_node  indicator_link  jaccard_followers  \\\n",
            "0       273084           1505602               1           0.000000   \n",
            "1       912810           1678443               1           0.058824   \n",
            "2       365429           1523458               1           0.033058   \n",
            "3       527014           1605979               1           0.000000   \n",
            "4      1228116            471233               1           0.068966   \n",
            "\n",
            "   jaccard_followees  cosine_followers  cosine_followees  num_followers_s  \\\n",
            "0           0.000000          0.000000          0.000000               11   \n",
            "1           0.058824          0.111803          0.111803               10   \n",
            "2           0.023077          0.068599          0.046761               40   \n",
            "3           0.000000          0.000000          0.000000                0   \n",
            "4           0.162162          0.154303          0.279751               14   \n",
            "\n",
            "   num_followers_d  num_followees_s  num_followees_d  inter_followers  \\\n",
            "0                6               15                8                0   \n",
            "1                8               10                8                1   \n",
            "2               85               49               84                4   \n",
            "3                1                1                0                0   \n",
            "4               48               23               20                4   \n",
            "\n",
            "   inter_followees  adar_index  follows_back  same_comp  shortest_path  \\\n",
            "0                0           0             0          1              4   \n",
            "1                1           0             1          1              2   \n",
            "2                3           0             1          1              2   \n",
            "3                0           0             0          0             -1   \n",
            "4                6           0             0          1              2   \n",
            "\n",
            "   pf_attachment_followers  pf_attachment_followees  \n",
            "0                        0                        0  \n",
            "1                        0                        0  \n",
            "2                        0                        0  \n",
            "3                        0                        0  \n",
            "4                        0                        0  \n",
            "(15100030, 19)\n",
            "   source_node  destination_node  indicator_link  jaccard_followers  \\\n",
            "0       848424            784690               1           0.052632   \n",
            "1      1248963            444518               1           0.000000   \n",
            "2       264224            132395               1           0.375000   \n",
            "3       549680            326829               1           0.115385   \n",
            "4       875380           1394902               1           0.190476   \n",
            "\n",
            "   jaccard_followees  cosine_followers  cosine_followees  num_followers_s  \\\n",
            "0           0.000000          0.109109          0.000000                6   \n",
            "1           0.000000          0.000000          0.000000                5   \n",
            "2           0.400000          0.612372          0.571429                8   \n",
            "3           0.040000          0.210042          0.077850               17   \n",
            "4           0.184211          0.324176          0.313050               21   \n",
            "\n",
            "   num_followers_d  num_followees_s  num_followees_d  inter_followers  \\\n",
            "0               14                6                9                1   \n",
            "1                1                8                2                0   \n",
            "2                3                7                7                3   \n",
            "3               12               11               15                3   \n",
            "4               29               20               25                8   \n",
            "\n",
            "   inter_followees  adar_index  follows_back  same_comp  shortest_path  \\\n",
            "0                0           0             1          1              6   \n",
            "1                0           0             1          1             -1   \n",
            "2                4           0             1          1              2   \n",
            "3                1           0             1          1              2   \n",
            "4                7           0             1          1              2   \n",
            "\n",
            "   pf_attachment_followers  pf_attachment_followees  \n",
            "0                        0                        0  \n",
            "1                        0                        0  \n",
            "2                        0                        0  \n",
            "3                        0                        0  \n",
            "4                        0                        0  \n",
            "(3775008, 19)\n"
          ],
          "name": "stdout"
        }
      ]
    },
    {
      "cell_type": "code",
      "metadata": {
        "id": "oSOeRHP_ZawB",
        "outputId": "3e329c5b-9cb1-4059-ac11-c499feaf2023"
      },
      "source": [
        "weight_in = {}\n",
        "weight_out = {}\n",
        "for i in tqdm(train_graph.nodes()):\n",
        "  s1 = set(train_graph.predecessors(i))\n",
        "  w_in = 1.0/(np.sqrt(1+len(s1)))\n",
        "  weight_in[i]=w_in\n",
        "\n",
        "  s2=set(train_graph.successors(i))\n",
        "  w_out = 1.0/(np.sqrt(1+len(s2)))\n",
        "  weight_out[i]=w_out\n",
        "\n",
        "mean_weight_in = np.mean(list(weight_in.values()))\n",
        "mean_weight_out = np.mean(list(weight_out.values()))"
      ],
      "execution_count": null,
      "outputs": [
        {
          "output_type": "stream",
          "text": [
            "100%|██████████| 1780722/1780722 [00:18<00:00, 96298.08it/s] \n"
          ],
          "name": "stderr"
        }
      ]
    },
    {
      "cell_type": "code",
      "metadata": {
        "id": "oyxqiQEJcaTp"
      },
      "source": [
        "if not os.path.isfile(source+'/df_final_train_stage_3.csv'):\n",
        "\n",
        "  df_final_train['weight_in'] = df_final_train.destination_node.apply(lambda x: weight_in.get(x,mean_weight_in))\n",
        "  df_final_train['weight_out'] = df_final_train.source_node.apply(lambda x: weight_out.get(x,mean_weight_out))\n",
        "\n",
        "  df_final_test['weight_in'] = df_final_test.destination_node.apply(lambda x: weight_in.get(x,mean_weight_in))\n",
        "  df_final_test['weight_out'] = df_final_test.source_node.apply(lambda x: weight_out.get(x,mean_weight_out))\n",
        "\n",
        "  df_final_train['weight_f1'] = df_final_train.weight_in + df_final_train.weight_out\n",
        "  df_final_train['weight_f2'] = df_final_train.weight_in * df_final_train.weight_out\n",
        "  df_final_train['weight_f3'] = (2*df_final_train.weight_in + 1*df_final_train.weight_out)\n",
        "  df_final_train['weight_f4'] = (1*df_final_train.weight_in + 2*df_final_train.weight_out)\n",
        "\n",
        "  df_final_test['weight_f1'] = df_final_test.weight_in + df_final_test.weight_out\n",
        "  df_final_test['weight_f2'] = df_final_test.weight_in * df_final_test.weight_out\n",
        "  df_final_test['weight_f3'] = (2*df_final_test.weight_in + 1*df_final_test.weight_out)\n",
        "  df_final_test['weight_f4'] = (1*df_final_test.weight_in + 2*df_final_test.weight_out)\n",
        "\n",
        "  df_final_train['page_rank_s'] = df_final_train.source_node.apply(lambda x:page_rank.get(x,mean_pr))\n",
        "  df_final_train['page_rank_d'] = df_final_train.destination_node.apply(lambda x:page_rank.get(x,mean_pr))\n",
        "\n",
        "  df_final_test['page_rank_s'] = df_final_test.source_node.apply(lambda x:page_rank.get(x,mean_pr))\n",
        "  df_final_test['page_rank_d'] = df_final_test.destination_node.apply(lambda x:page_rank.get(x,mean_pr))\n",
        "\n",
        "  df_final_train['katz_s'] = df_final_train.source_node.apply(lambda x: katz.get(x,mean_katz))\n",
        "  df_final_train['katz_d'] = df_final_train.destination_node.apply(lambda x: katz.get(x,mean_katz))\n",
        "\n",
        "  df_final_test['katz_s'] = df_final_tede.apply(lambda x: katz.get(x,mean_katz))\n",
        "  df_final_test['katz_d'] = df_final_test.destination_node.apply(lambda x: katz.get(x,mean_katz))\n",
        "\n",
        "  df_final_train['hubs_s'] = df_final_train.source_node.apply(lambda x: hits[0].get(x,0))\n",
        "  df_final_train['hubs_d'] = df_final_train.destination_node.apply(lambda x: hits[0].get(x,0))\n",
        "\n",
        "  df_final_test['hubs_s'] = df_final_test.source_node.apply(lambda x: hits[0].get(x,0))\n",
        "  df_final_test['hubs_d'] = df_final_test.destination_node.apply(lambda x: hits[0].get(x,0))\n",
        "\n",
        "  df_final_train['authorities_s'] = df_final_train.source_node.apply(lambda x: hits[1].get(x,0))\n",
        "  df_final_train['authorities_d'] = df_final_train.destination_node.apply(lambda x: hits[1].get(x,0))\n",
        "\n",
        "  df_final_test['authorities_s'] = df_final_test.source_node.apply(lambda x: hits[1].get(x,0))\n",
        "  df_final_test['authorities_d'] = df_final_test.destination_node.apply(lambda x: hits[1].get(x,0))\n",
        "\n",
        "  df_final_train.to_csv(source+'/df_final_train_stage_3.csv',index=False)\n",
        "  df_final_test.to_csv(source+'/df_final_test_stage_3.csv',index=False)\n",
        "else:\n",
        "  df_final_train = pd.read_csv(source+'/df_final_train_stage_3.csv', index_col=False)\n",
        "  df_final_test = pd.read_csv(source+'/df_final_test_stage_3.csv', index_col=False)\n"
      ],
      "execution_count": null,
      "outputs": []
    },
    {
      "cell_type": "code",
      "metadata": {
        "id": "wrSetFafiJtl",
        "outputId": "3b52484a-b646-4f7e-9ee7-14db354eb47a"
      },
      "source": [
        "print(df_final_train.head())\n",
        "print(df_final_train.shape)\n",
        "print(df_final_test.head())\n",
        "print(df_final_test.shape)"
      ],
      "execution_count": null,
      "outputs": [
        {
          "output_type": "stream",
          "text": [
            "   source_node  destination_node  indicator_link  jaccard_followers  \\\n",
            "0       273084           1505602               1           0.000000   \n",
            "1       912810           1678443               1           0.058824   \n",
            "2       365429           1523458               1           0.033058   \n",
            "3       527014           1605979               1           0.000000   \n",
            "4      1228116            471233               1           0.068966   \n",
            "\n",
            "   jaccard_followees  cosine_followers  cosine_followees  num_followers_s  \\\n",
            "0           0.000000          0.000000          0.000000               11   \n",
            "1           0.058824          0.111803          0.111803               10   \n",
            "2           0.023077          0.068599          0.046761               40   \n",
            "3           0.000000          0.000000          0.000000                0   \n",
            "4           0.162162          0.154303          0.279751               14   \n",
            "\n",
            "   num_followers_d  num_followees_s  ...  weight_f3  weight_f4   page_rank_s  \\\n",
            "0                6               15  ...   1.033279   0.932665  2.045290e-06   \n",
            "1                8               10  ...   1.456212   1.180373  1.039181e-06   \n",
            "2               85               49  ...   0.358352   0.391308  1.033022e-06   \n",
            "3                1                1  ...   3.000000   3.000000  1.655650e-07   \n",
            "4               48               23  ...   0.489838   0.551105  8.348032e-07   \n",
            "\n",
            "    page_rank_d    katz_s    katz_d        hubs_s        hubs_d  \\\n",
            "0  3.459963e-07  0.000773  0.000756  1.943132e-13  1.941103e-13   \n",
            "1  1.793806e-06  0.000771  0.000761  6.223983e-16  7.761651e-18   \n",
            "2  3.096856e-06  0.000911  0.001099  2.212482e-13  2.563941e-13   \n",
            "3  6.428994e-07  0.000731  0.000735  0.000000e+00  0.000000e+00   \n",
            "4  2.665876e-06  0.000793  0.000922  6.917913e-17  1.320470e-16   \n",
            "\n",
            "   authorities_s  authorities_d  \n",
            "0   9.226339e-16   2.231877e-15  \n",
            "1   9.501394e-16   5.142398e-18  \n",
            "2   7.761986e-14   6.291902e-14  \n",
            "3   0.000000e+00   0.000000e+00  \n",
            "4   5.963786e-18   3.407897e-17  \n",
            "\n",
            "[5 rows x 33 columns]\n",
            "(15100030, 33)\n",
            "   source_node  destination_node  indicator_link  jaccard_followers  \\\n",
            "0       848424            784690               1           0.052632   \n",
            "1      1248963            444518               1           0.000000   \n",
            "2       264224            132395               1           0.375000   \n",
            "3       549680            326829               1           0.115385   \n",
            "4       875380           1394902               1           0.190476   \n",
            "\n",
            "   jaccard_followees  cosine_followers  cosine_followees  num_followers_s  \\\n",
            "0           0.000000          0.109109          0.000000                6   \n",
            "1           0.000000          0.000000          0.000000                5   \n",
            "2           0.400000          0.612372          0.571429                8   \n",
            "3           0.040000          0.210042          0.077850               17   \n",
            "4           0.184211          0.324176          0.313050               21   \n",
            "\n",
            "   num_followers_d  num_followees_s  ...  weight_f3  weight_f4   page_rank_s  \\\n",
            "0               14                6  ...   0.962948   1.093847  6.557971e-07   \n",
            "1                1                8  ...   2.353553   1.707107  1.115895e-06   \n",
            "2                3                7  ...   1.353553   1.207107  5.176389e-07   \n",
            "3               12               11  ...   0.843375   0.854700  8.354002e-07   \n",
            "4               29               20  ...   0.583366   0.619010  1.500364e-06   \n",
            "\n",
            "    page_rank_d    katz_s    katz_d        hubs_s        hubs_d  \\\n",
            "0  1.559547e-06  0.000754  0.000786  3.243237e-16  1.745627e-16   \n",
            "1  2.451207e-07  0.000750  0.000735  1.963513e-17  1.924496e-20   \n",
            "2  3.594821e-07  0.000763  0.000743  3.532699e-14  3.543278e-14   \n",
            "3  7.644794e-07  0.000800  0.000779  5.609577e-13  2.220721e-13   \n",
            "4  1.550158e-06  0.000813  0.000846  2.408301e-17  1.167624e-16   \n",
            "\n",
            "   authorities_s  authorities_d  \n",
            "0   2.969838e-15   9.269213e-14  \n",
            "1   1.727944e-18   4.482147e-20  \n",
            "2   8.377534e-15   4.484954e-15  \n",
            "3   2.822190e-11   2.426166e-14  \n",
            "4   1.431057e-16   1.911917e-16  \n",
            "\n",
            "[5 rows x 33 columns]\n",
            "(3775008, 33)\n"
          ],
          "name": "stdout"
        }
      ]
    },
    {
      "cell_type": "code",
      "metadata": {
        "id": "k62SJf0NiBmg"
      },
      "source": [
        "sadj_col = sorted(train_graph.nodes())\n",
        "sadj_dict = { val:idx for idx,val in enumerate(sadj_col)}"
      ],
      "execution_count": null,
      "outputs": []
    },
    {
      "cell_type": "code",
      "metadata": {
        "id": "0ukayXoIiM0H"
      },
      "source": [
        "def svd(x, S):\n",
        "    try:\n",
        "        z = sadj_dict[x]\n",
        "        return S[z]\n",
        "    except:\n",
        "        return [0,0,0,0,0,0]"
      ],
      "execution_count": null,
      "outputs": []
    },
    {
      "cell_type": "code",
      "metadata": {
        "id": "-NAowglFoJ-K"
      },
      "source": [
        "def svd_dot(x, U, V):\n",
        "  try:\n",
        "    z = sadj_dict[x]\n",
        "    return np.dot(U[z],V.T[z])\n",
        "  except:\n",
        "    return 0"
      ],
      "execution_count": null,
      "outputs": []
    },
    {
      "cell_type": "code",
      "metadata": {
        "id": "4RhmWUAyiPg7",
        "outputId": "e1e0f3b1-d8fd-4dde-890e-62c76a584873"
      },
      "source": [
        "Adj = nx.adjacency_matrix(train_graph,nodelist=sorted(train_graph.nodes())).asfptype()\n",
        "U, s, V = svds(Adj, k = 6)\n",
        "print('Adjacency matrix Shape',Adj.shape)\n",
        "print('U Shape',U.shape)\n",
        "print('V Shape',V.shape)\n",
        "print('s Shape',s.shape)"
      ],
      "execution_count": null,
      "outputs": [
        {
          "output_type": "stream",
          "text": [
            "Adjacency matrix Shape (1780722, 1780722)\n",
            "U Shape (1780722, 6)\n",
            "V Shape (6, 1780722)\n",
            "s Shape (6,)\n"
          ],
          "name": "stdout"
        }
      ]
    },
    {
      "cell_type": "code",
      "metadata": {
        "id": "BDamqWUrDWNk"
      },
      "source": [
        "#delete the step an remove skip from next step\n",
        "n_train =  15100030\n",
        "s = int(15100030/2) #desired sample size\n",
        "skip_train = sorted(random.sample(range(1,n_train+1),n_train-s))\n",
        "n_test = 3775008\n",
        "s = int(3775008/2) #desired sample size\n",
        "skip_test = sorted(random.sample(range(1,n_test+1),n_test-s))"
      ],
      "execution_count": null,
      "outputs": []
    },
    {
      "cell_type": "code",
      "metadata": {
        "id": "lzPzsrLADWNk",
        "outputId": "d6121e9c-81c0-49d7-e2c9-29212427f231"
      },
      "source": [
        "print(n_test-len(skip_test))"
      ],
      "execution_count": null,
      "outputs": [
        {
          "output_type": "stream",
          "text": [
            "1887504\n"
          ],
          "name": "stdout"
        }
      ]
    },
    {
      "cell_type": "code",
      "metadata": {
        "id": "k_Kqihx8psot"
      },
      "source": [
        "if not os.path.isfile(source+'/df_final_train_stage_4.csv'):\n",
        "  df_final_train[['svd_u_s_1', 'svd_u_s_2','svd_u_s_3', 'svd_u_s_4', 'svd_u_s_5', 'svd_u_s_6']] = df_final_train.source_node.apply(lambda x: svd(x, U)).apply(pd.Series)\n",
        "  df_final_train[['svd_u_d_1', 'svd_u_d_2', 'svd_u_d_3', 'svd_u_d_4', 'svd_u_d_5','svd_u_d_6']] = df_final_train.destination_node.apply(lambda x: svd(x, U)).apply(pd.Series)\n",
        "\n",
        "  df_final_train[['svd_v_s_1','svd_v_s_2', 'svd_v_s_3', 'svd_v_s_4', 'svd_v_s_5', 'svd_v_s_6',]] = df_final_train.source_node.apply(lambda x: svd(x, V.T)).apply(pd.Series)\n",
        "  df_final_train[['svd_v_d_1', 'svd_v_d_2', 'svd_v_d_3', 'svd_v_d_4', 'svd_v_d_5','svd_v_d_6']] = df_final_train.destination_node.apply(lambda x: svd(x, V.T)).apply(pd.Series)\n",
        "\n",
        "  df_final_test[['svd_u_s_1', 'svd_u_s_2','svd_u_s_3', 'svd_u_s_4', 'svd_u_s_5', 'svd_u_s_6']] = df_final_test.source_node.apply(lambda x: svd(x, U)).apply(pd.Series)\n",
        "  df_final_test[['svd_u_d_1', 'svd_u_d_2', 'svd_u_d_3', 'svd_u_d_4', 'svd_u_d_5','svd_u_d_6']] = df_final_test.destination_node.apply(lambda x: svd(x, U)).apply(pd.Series)\n",
        "\n",
        "  df_final_test[['svd_v_s_1','svd_v_s_2', 'svd_v_s_3', 'svd_v_s_4', 'svd_v_s_5', 'svd_v_s_6',]] = df_final_test.source_node.apply(lambda x: svd(x, V.T)).apply(pd.Series)\n",
        "  df_final_test[['svd_v_d_1', 'svd_v_d_2', 'svd_v_d_3', 'svd_v_d_4', 'svd_v_d_5','svd_v_d_6']] = df_final_test.destination_node.apply(lambda x: svd(x, V.T)).apply(pd.Series)\n",
        "\n",
        "  df_final_train['svd_dot_s'] = df_final_train.source_node.apply(lambda x: svd_dot(x, U, V)).apply(pd.Series)\n",
        "  df_final_train['svd_dot_d'] = df_final_train.destination_node.apply(lambda x: svd_dot(x, U, V)).apply(pd.Series)\n",
        "\n",
        "  df_final_test['svd_dot_s'] = df_final_test.source_node.apply(lambda x: svd_dot(x, U, V)).apply(pd.Series)\n",
        "  df_final_test['svd_dot_d'] = df_final_test.destination_node.apply(lambda x: svd_dot(x, U, V)).apply(pd.Series)\n",
        "  \n",
        "  df_final_train.to_csv(source+'/df_final_train_stage_4.csv',index=False)\n",
        "  df_final_test.to_csv(source+'/df_final_test_stage_4.csv',index=False)\n",
        "else:\n",
        "  df_final_train = pd.read_csv(source+'/df_final_train_stage_4.csv',skiprows=skip_train,index_col=False)\n",
        "  df_final_test = pd.read_csv(source+'/df_final_test_stage_4.csv',skiprows=skip_test,index_col=False)"
      ],
      "execution_count": null,
      "outputs": []
    },
    {
      "cell_type": "code",
      "metadata": {
        "id": "hvH7p-fGrHTB",
        "outputId": "4475f3b3-77d9-4c73-f8f0-db5368fb9125"
      },
      "source": [
        "#print(df_final_train.head())\n",
        "print(df_final_train.shape)\n",
        "#print(df_final_test.head())\n",
        "print(df_final_test.shape)"
      ],
      "execution_count": null,
      "outputs": [
        {
          "output_type": "stream",
          "text": [
            "(7550015, 59)\n",
            "(1887504, 59)\n"
          ],
          "name": "stdout"
        }
      ]
    },
    {
      "cell_type": "code",
      "metadata": {
        "id": "cXOwRsacxGws"
      },
      "source": [
        "def plot_confusion_matrix(test_y, predict_y):\n",
        "    C = confusion_matrix(test_y, predict_y)\n",
        "    \n",
        "    A =(((C.T)/(C.sum(axis=1))).T)\n",
        "    \n",
        "    B =(C/C.sum(axis=0))\n",
        "    plt.figure(figsize=(20,4))\n",
        "    \n",
        "    labels = [0,1]\n",
        "    # representing A in heatmap format\n",
        "    cmap=sns.light_palette(\"blue\")\n",
        "    plt.subplot(1, 3, 1)\n",
        "    sns.heatmap(C, annot=True, cmap=cmap, fmt=\".3f\", xticklabels=labels, yticklabels=labels)\n",
        "    plt.xlabel('Predicted Class')\n",
        "    plt.ylabel('Original Class')\n",
        "    plt.title(\"Confusion matrix\")\n",
        "    \n",
        "    plt.subplot(1, 3, 2)\n",
        "    sns.heatmap(B, annot=True, cmap=cmap, fmt=\".3f\", xticklabels=labels, yticklabels=labels)\n",
        "    plt.xlabel('Predicted Class')\n",
        "    plt.ylabel('Original Class')\n",
        "    plt.title(\"Precision matrix\")\n",
        "    \n",
        "    plt.subplot(1, 3, 3)\n",
        "    # representing B in heatmap format\n",
        "    sns.heatmap(A, annot=True, cmap=cmap, fmt=\".3f\", xticklabels=labels, yticklabels=labels)\n",
        "    plt.xlabel('Predicted Class')\n",
        "    plt.ylabel('Original Class')\n",
        "    plt.title(\"Recall matrix\")\n",
        "    \n",
        "    plt.show()"
      ],
      "execution_count": null,
      "outputs": []
    },
    {
      "cell_type": "code",
      "metadata": {
        "id": "jpUEJyJ2xaG_"
      },
      "source": [
        "y_train = df_final_train.indicator_link\n",
        "y_test = df_final_test.indicator_link\n",
        "df_final_train.drop(['source_node', 'destination_node','indicator_link'],axis=1,inplace=True)\n",
        "df_final_test.drop(['source_node', 'destination_node','indicator_link'],axis=1,inplace=True)"
      ],
      "execution_count": null,
      "outputs": []
    },
    {
      "cell_type": "code",
      "metadata": {
        "id": "tW5Ouw5kDWNm"
      },
      "source": [
        "feature_list = list(df_final_train.columns)"
      ],
      "execution_count": null,
      "outputs": []
    },
    {
      "cell_type": "markdown",
      "metadata": {
        "id": "wnPVA2JiMQQE"
      },
      "source": [
        "Running random forest to get features importance. Note: Random forest was tuned on a different computer due system constrain and onlt the best params are use in this."
      ]
    },
    {
      "cell_type": "code",
      "metadata": {
        "id": "vq0RShRaDWNm"
      },
      "source": [
        "clf = RandomForestClassifier(bootstrap=True, class_weight=None, criterion='gini',\n",
        "            max_depth=14, max_features='auto', max_leaf_nodes=None,\n",
        "            min_impurity_decrease=0.0, min_impurity_split=None,\n",
        "            min_samples_leaf=28, min_samples_split=111,\n",
        "            min_weight_fraction_leaf=0.0, n_estimators=121, n_jobs=-1,\n",
        "            oob_score=False, random_state=25, verbose=0, warm_start=False)"
      ],
      "execution_count": null,
      "outputs": []
    },
    {
      "cell_type": "code",
      "metadata": {
        "id": "T1RQAi3rDWNm",
        "outputId": "29b461a4-88ac-4d80-d8d3-0a103af070a4"
      },
      "source": [
        "clf.fit(df_final_train,y_train)"
      ],
      "execution_count": null,
      "outputs": [
        {
          "output_type": "execute_result",
          "data": {
            "text/plain": [
              "RandomForestClassifier(max_depth=14, min_samples_leaf=28, min_samples_split=111,\n",
              "                       n_estimators=121, n_jobs=-1, random_state=25)"
            ]
          },
          "metadata": {
            "tags": []
          },
          "execution_count": 10
        }
      ]
    },
    {
      "cell_type": "code",
      "metadata": {
        "id": "PHhapEO5DWNn"
      },
      "source": [
        "importance = clf.feature_importances_"
      ],
      "execution_count": null,
      "outputs": []
    },
    {
      "cell_type": "code",
      "metadata": {
        "id": "Re9dcq78DWNn",
        "outputId": "ac7b6518-faa5-42e4-9fad-ecf56a2ab6cd"
      },
      "source": [
        "index = importance.argsort()\n",
        "column_index = []\n",
        "count = 0\n",
        "for i in range(len(index)-1,0,-1):\n",
        "    column_index.append(index[i])\n",
        "    count = count +1\n",
        "    if count==20:\n",
        "        break\n",
        "print(sum(importance[column_index]))"
      ],
      "execution_count": null,
      "outputs": [
        {
          "output_type": "stream",
          "text": [
            "0.992472633205118\n"
          ],
          "name": "stdout"
        }
      ]
    },
    {
      "cell_type": "code",
      "metadata": {
        "id": "nXFmYm7oDWNn"
      },
      "source": [
        "filtered_col = list(np.take(feature_list,column_index))"
      ],
      "execution_count": null,
      "outputs": []
    },
    {
      "cell_type": "code",
      "metadata": {
        "id": "q5x9F4OLDWNn"
      },
      "source": [
        "df_final_train = df_final_train[filtered_col]\n",
        "df_final_test = df_final_test[filtered_col]"
      ],
      "execution_count": null,
      "outputs": []
    },
    {
      "cell_type": "code",
      "metadata": {
        "id": "PNpPBMueDWNo"
      },
      "source": [
        "df_final_train.to_csv(source+'/df_final_train_stage_5.csv',index=False)\n",
        "df_final_test.to_csv(source+'/df_final_test_stage_5.csv',index=False)"
      ],
      "execution_count": null,
      "outputs": []
    },
    {
      "cell_type": "code",
      "metadata": {
        "id": "ake7A2e1DWNo"
      },
      "source": [
        "df_final_train = pd.read_csv(source+'/df_final_train_stage_5.csv',index_col=False)\n",
        "df_final_test = pd.read_csv(source+'/df_final_test_stage_5.csv',index_col=False)"
      ],
      "execution_count": null,
      "outputs": []
    },
    {
      "cell_type": "code",
      "metadata": {
        "id": "y_h08saJDWNo"
      },
      "source": [
        "y_train = df_final_train.indicator_link\n",
        "y_test = df_final_test.indicator_link\n",
        "df_final_train.drop(['indicator_link'],axis=1,inplace=True)\n",
        "df_final_test.drop(['indicator_link'],axis=1,inplace=True)"
      ],
      "execution_count": null,
      "outputs": []
    },
    {
      "cell_type": "code",
      "metadata": {
        "id": "n6kyPIxXDWNo",
        "outputId": "180d6ee7-0c24-4730-8bd4-c9d94c746d1d"
      },
      "source": [
        "print(df_final_train.info())\n",
        "print(df_final_train.shape)\n",
        "print(df_final_test.info())\n",
        "print(df_final_test.shape)"
      ],
      "execution_count": null,
      "outputs": [
        {
          "output_type": "stream",
          "text": [
            "<class 'pandas.core.frame.DataFrame'>\n",
            "RangeIndex: 7550015 entries, 0 to 7550014\n",
            "Data columns (total 20 columns):\n",
            " #   Column             Dtype  \n",
            "---  ------             -----  \n",
            " 0   follows_back       int64  \n",
            " 1   shortest_path      int64  \n",
            " 2   weight_f4          float64\n",
            " 3   weight_f1          float64\n",
            " 4   inter_followers    int64  \n",
            " 5   weight_f2          float64\n",
            " 6   weight_f3          float64\n",
            " 7   cosine_followers   float64\n",
            " 8   jaccard_followers  float64\n",
            " 9   jaccard_followees  float64\n",
            " 10  inter_followees    int64  \n",
            " 11  cosine_followees   float64\n",
            " 12  num_followers_d    int64  \n",
            " 13  num_followees_s    int64  \n",
            " 14  same_comp          int64  \n",
            " 15  weight_out         float64\n",
            " 16  num_followers_s    int64  \n",
            " 17  weight_in          float64\n",
            " 18  num_followees_d    int64  \n",
            " 19  katz_d             float64\n",
            "dtypes: float64(11), int64(9)\n",
            "memory usage: 1.1 GB\n",
            "None\n",
            "(7550015, 20)\n",
            "<class 'pandas.core.frame.DataFrame'>\n",
            "RangeIndex: 1887504 entries, 0 to 1887503\n",
            "Data columns (total 20 columns):\n",
            " #   Column             Dtype  \n",
            "---  ------             -----  \n",
            " 0   follows_back       int64  \n",
            " 1   shortest_path      int64  \n",
            " 2   weight_f4          float64\n",
            " 3   weight_f1          float64\n",
            " 4   inter_followers    int64  \n",
            " 5   weight_f2          float64\n",
            " 6   weight_f3          float64\n",
            " 7   cosine_followers   float64\n",
            " 8   jaccard_followers  float64\n",
            " 9   jaccard_followees  float64\n",
            " 10  inter_followees    int64  \n",
            " 11  cosine_followees   float64\n",
            " 12  num_followers_d    int64  \n",
            " 13  num_followees_s    int64  \n",
            " 14  same_comp          int64  \n",
            " 15  weight_out         float64\n",
            " 16  num_followers_s    int64  \n",
            " 17  weight_in          float64\n",
            " 18  num_followees_d    int64  \n",
            " 19  katz_d             float64\n",
            "dtypes: float64(11), int64(9)\n",
            "memory usage: 288.0 MB\n",
            "None\n",
            "(1887504, 20)\n"
          ],
          "name": "stdout"
        }
      ]
    },
    {
      "cell_type": "code",
      "metadata": {
        "id": "RhrTOkbbrOYl"
      },
      "source": [
        "x_cfl=XGBClassifier()\n",
        "prams={'learning_rate':[0.01,0.03,0.05,0.1,0.15,0.2],'n_estimators':[100,200,500],'max_depth':[3,5,10],'colsample_bytree':[0.1,0.3,0.5,1],'subsample':[0.1,0.3,0.5,1]}\n",
        "random_cfl=RandomizedSearchCV(x_cfl,param_distributions=prams,verbose=10,n_jobs=-1,scoring='f1')"
      ],
      "execution_count": null,
      "outputs": []
    },
    {
      "cell_type": "code",
      "metadata": {
        "id": "ybGB2KjwDWNp",
        "outputId": "01595a0a-8a1b-4efc-dcf9-bd7a46183793"
      },
      "source": [
        "random_cfl.fit(df_final_train,y_train)"
      ],
      "execution_count": null,
      "outputs": [
        {
          "output_type": "stream",
          "text": [
            "Fitting 5 folds for each of 10 candidates, totalling 50 fits\n"
          ],
          "name": "stdout"
        },
        {
          "output_type": "stream",
          "text": [
            "[Parallel(n_jobs=-1)]: Using backend LokyBackend with 16 concurrent workers.\n",
            "[Parallel(n_jobs=-1)]: Done   9 tasks      | elapsed: 32.6min\n",
            "[Parallel(n_jobs=-1)]: Done  18 tasks      | elapsed: 96.4min\n",
            "[Parallel(n_jobs=-1)]: Done  25 out of  50 | elapsed: 137.1min remaining: 137.1min\n",
            "[Parallel(n_jobs=-1)]: Done  31 out of  50 | elapsed: 148.2min remaining: 90.8min\n",
            "[Parallel(n_jobs=-1)]: Done  37 out of  50 | elapsed: 190.6min remaining: 67.0min\n",
            "[Parallel(n_jobs=-1)]: Done  43 out of  50 | elapsed: 233.5min remaining: 38.0min\n",
            "[Parallel(n_jobs=-1)]: Done  50 out of  50 | elapsed: 282.6min finished\n"
          ],
          "name": "stderr"
        },
        {
          "output_type": "stream",
          "text": [
            "[16:38:13] WARNING: ../src/learner.cc:1061: Starting in XGBoost 1.3.0, the default evaluation metric used with the objective 'binary:logistic' was changed from 'error' to 'logloss'. Explicitly set eval_metric if you'd like to restore the old behavior.\n"
          ],
          "name": "stdout"
        },
        {
          "output_type": "execute_result",
          "data": {
            "text/plain": [
              "RandomizedSearchCV(estimator=XGBClassifier(base_score=None, booster=None,\n",
              "                                           colsample_bylevel=None,\n",
              "                                           colsample_bynode=None,\n",
              "                                           colsample_bytree=None, gamma=None,\n",
              "                                           gpu_id=None, importance_type='gain',\n",
              "                                           interaction_constraints=None,\n",
              "                                           learning_rate=None,\n",
              "                                           max_delta_step=None, max_depth=None,\n",
              "                                           min_child_weight=None, missing=nan,\n",
              "                                           monotone_constraints=None,\n",
              "                                           n_estimators=100, n_job...\n",
              "                                           random_state=None, reg_alpha=None,\n",
              "                                           reg_lambda=None,\n",
              "                                           scale_pos_weight=None,\n",
              "                                           subsample=None, tree_method=None,\n",
              "                                           validate_parameters=None,\n",
              "                                           verbosity=None),\n",
              "                   n_jobs=-1,\n",
              "                   param_distributions={'colsample_bytree': [0.1, 0.3, 0.5, 1],\n",
              "                                        'learning_rate': [0.01, 0.03, 0.05, 0.1,\n",
              "                                                          0.15, 0.2],\n",
              "                                        'max_depth': [3, 5, 10],\n",
              "                                        'n_estimators': [100, 200, 500],\n",
              "                                        'subsample': [0.1, 0.3, 0.5, 1]},\n",
              "                   scoring='f1', verbose=10)"
            ]
          },
          "metadata": {
            "tags": []
          },
          "execution_count": 8
        }
      ]
    },
    {
      "cell_type": "code",
      "metadata": {
        "id": "Ip_JKaU_DWNp",
        "outputId": "a8d14436-7727-42e1-a4a1-7e81798f7390"
      },
      "source": [
        "print(random_cfl.best_params_)"
      ],
      "execution_count": null,
      "outputs": [
        {
          "output_type": "stream",
          "text": [
            "{'subsample': 1, 'n_estimators': 200, 'max_depth': 5, 'learning_rate': 0.2, 'colsample_bytree': 1}\n"
          ],
          "name": "stdout"
        }
      ]
    },
    {
      "cell_type": "code",
      "metadata": {
        "id": "a70MpPDS4Zpa"
      },
      "source": [
        "best_param = random_cfl.best_params_"
      ],
      "execution_count": null,
      "outputs": []
    },
    {
      "cell_type": "code",
      "metadata": {
        "id": "z8kET6tcwxmm",
        "outputId": "d614a208-7c66-451d-ff56-0457125f2eeb"
      },
      "source": [
        "x_cfl=XGBClassifier(n_estimators=best_param['n_estimators'], learning_rate=best_param['learning_rate'], colsample_bytree=best_param['colsample_bytree'], max_depth=best_param['max_depth'],subsample=best_param['subsample'])\n",
        "x_cfl.fit(df_final_train,y_train)\n",
        "y_train_pred = x_cfl.predict(df_final_train)\n",
        "y_test_pred = x_cfl.predict(df_final_test)"
      ],
      "execution_count": null,
      "outputs": [
        {
          "output_type": "stream",
          "text": [
            "[17:43:33] WARNING: ../src/learner.cc:1061: Starting in XGBoost 1.3.0, the default evaluation metric used with the objective 'binary:logistic' was changed from 'error' to 'logloss'. Explicitly set eval_metric if you'd like to restore the old behavior.\n"
          ],
          "name": "stdout"
        }
      ]
    },
    {
      "cell_type": "code",
      "metadata": {
        "id": "tog14EuK3rFo",
        "outputId": "861e1f9e-6149-489c-9554-a216ea416c72"
      },
      "source": [
        "print('Train f1 score',f1_score(y_train,y_train_pred))\n",
        "print('Test f1 score',f1_score(y_test,y_test_pred))"
      ],
      "execution_count": null,
      "outputs": [
        {
          "output_type": "stream",
          "text": [
            "Train f1 score 0.9643526501738422\n",
            "Test f1 score 0.9144338584494842\n"
          ],
          "name": "stdout"
        }
      ]
    },
    {
      "cell_type": "code",
      "metadata": {
        "id": "I0E8tdtZxL_c",
        "outputId": "da824cd9-22d0-4c4d-e7b7-62461cf13808"
      },
      "source": [
        "print('Train confusion_matrix')\n",
        "plot_confusion_matrix(y_train,y_train_pred)\n",
        "print('Test confusion_matrix')\n",
        "plot_confusion_matrix(y_test,y_test_pred)"
      ],
      "execution_count": null,
      "outputs": [
        {
          "output_type": "stream",
          "text": [
            "Train confusion_matrix\n"
          ],
          "name": "stdout"
        },
        {
          "output_type": "display_data",
          "data": {
            "image/png": "[encoded data removed]",
            "text/plain": [
              "<Figure size 1440x288 with 6 Axes>"
            ]
          },
          "metadata": {
            "tags": [],
            "needs_background": "light"
          }
        },
        {
          "output_type": "stream",
          "text": [
            "Test confusion_matrix\n"
          ],
          "name": "stdout"
        },
        {
          "output_type": "display_data",
          "data": {
            "image/png": "[encoded data removed]",
            "text/plain": [
              "<Figure size 1440x288 with 6 Axes>"
            ]
          },
          "metadata": {
            "tags": [],
            "needs_background": "light"
          }
        }
      ]
    },
    {
      "cell_type": "code",
      "metadata": {
        "id": "8V8ilqU1xQFq",
        "outputId": "3f0ad6b1-abf8-465e-fe75-4cde582e2f89"
      },
      "source": [
        "fpr,tpr,ths = roc_curve(y_test,y_test_pred)\n",
        "auc_sc = auc(fpr, tpr)\n",
        "plt.plot(fpr, tpr, color='navy',label='ROC curve (area = %0.2f)' % auc_sc)\n",
        "plt.xlabel('False Positive Rate')\n",
        "plt.ylabel('True Positive Rate')\n",
        "plt.title('Receiver operating characteristic with test data')\n",
        "plt.legend()\n",
        "plt.show()"
      ],
      "execution_count": null,
      "outputs": [
        {
          "output_type": "display_data",
          "data": {
            "image/png": "[encoded data removed]",
            "text/plain": [
              "<Figure size 432x288 with 1 Axes>"
            ]
          },
          "metadata": {
            "tags": [],
            "needs_background": "light"
          }
        }
      ]
    },
    {
      "cell_type": "markdown",
      "metadata": {
        "id": "P7xm1fhhLQh9"
      },
      "source": [
        "1. The above analysis we have created around 56 features for analysis from only 2 columns.\r\n",
        "2. On Running randon forest for getting the features importance we can see by taking only 20 features listed above we can get more the 99% of important feature.\r\n",
        "3. For training the main model which is Xgboost only 50% of the rows are used due to computation constrain with 20 features.\r\n",
        "4. The Xgboost is performing pretty good but the is overfitting which may be beacuse of using less no of points.\r\n",
        "5. We got a ROC of 0.92 and f1 score of 0.91\r\n",
        "6. We can also see in feature importance that a simple follow back feature is the most important among all of them."
      ]
    }
  ]
}